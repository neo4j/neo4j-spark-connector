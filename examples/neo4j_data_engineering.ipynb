{
  "cells": [
    {
      "cell_type": "markdown",
      "source": [
        "Open this notebook in Google Colab <a target=\"_blank\" href=\"https://colab.research.google.com/github/neo4j/neo4j-spark-connector/blob/5.0/examples/neo4j_data_engineering.ipynb\">\n",
        "  <img src=\"https://colab.research.google.com/assets/colab-badge.svg\" alt=\"Open In Colab\"/>\n",
        "</a>"
      ],
      "metadata": {
        "id": "EhTThKJMxDCy"
      }
    },
    {
      "cell_type": "markdown",
      "metadata": {
        "id": "7Nvb-_bYx359"
      },
      "source": [
        "# Example of a Simple data engineering workflow with Neo4j and Spark"
      ]
    },
    {
      "cell_type": "markdown",
      "source": [
        "This notebook contains a set of examples that explains how to extract insights from data using the Neo4j Connector for Apache Spark in a Data Engineering workflow with [AuraDB](https://neo4j.com/docs/aura/auradb/) our fully managed version of Neo4j database.\n",
        "\n",
        "The notebooks will enable you to test your knowledge with a set of exercises after each section.\n",
        "\n",
        "If you have any questions or problems feel free to write a post in the [Neo4j community forum](https://community.neo4j.com/) or in [Discord](https://discord.com/invite/neo4j).\n",
        "\n",
        "If you want more exercises feel free to open an issue in the [GitHub repository](https://github.com/neo4j/neo4j-spark-connector).\n",
        "\n",
        "Enjoy!"
      ],
      "metadata": {
        "id": "e0bo6ido8tL7"
      }
    },
    {
      "cell_type": "markdown",
      "metadata": {
        "id": "hXwkjQMnMXED"
      },
      "source": [
        "### Configure the Spark Environment"
      ]
    },
    {
      "cell_type": "code",
      "execution_count": null,
      "metadata": {
        "id": "BhZwh-RAz6Bo"
      },
      "outputs": [],
      "source": [
        "!apt-get install openjdk-17-jdk-headless -qq > /dev/null"
      ]
    },
    {
      "cell_type": "code",
      "source": [
        "spark_version = '3.3.4'"
      ],
      "metadata": {
        "id": "gmEzhrux7Jek"
      },
      "execution_count": null,
      "outputs": []
    },
    {
      "cell_type": "code",
      "source": [
        "!wget -q https://dlcdn.apache.org/spark/spark-$spark_version/spark-$spark_version-bin-hadoop3.tgz"
      ],
      "metadata": {
        "id": "Ya6Nj_u3vdTL"
      },
      "execution_count": null,
      "outputs": []
    },
    {
      "cell_type": "code",
      "execution_count": null,
      "metadata": {
        "id": "A3gsnSHl0F99"
      },
      "outputs": [],
      "source": [
        "!tar xf spark-$spark_version-bin-hadoop3.tgz"
      ]
    },
    {
      "cell_type": "code",
      "execution_count": null,
      "metadata": {
        "id": "hSBQWKs90vSx"
      },
      "outputs": [],
      "source": [
        "!pip install -q findspark"
      ]
    },
    {
      "cell_type": "code",
      "execution_count": null,
      "metadata": {
        "id": "tnW0a1Gj080k"
      },
      "outputs": [],
      "source": [
        "import os\n",
        "os.environ[\"JAVA_HOME\"] = \"/usr/lib/jvm/java-17-openjdk-amd64\"\n",
        "os.environ[\"SPARK_HOME\"] = f\"/content/spark-{spark_version}-bin-hadoop3\""
      ]
    },
    {
      "cell_type": "code",
      "execution_count": null,
      "metadata": {
        "id": "dlUBSezK1DpZ"
      },
      "outputs": [],
      "source": [
        "import findspark\n",
        "findspark.init()"
      ]
    },
    {
      "cell_type": "code",
      "execution_count": null,
      "metadata": {
        "id": "rd5KWGQiOVDV"
      },
      "outputs": [],
      "source": [
        "neo4j_url = \"\" # put your neo4j url here"
      ]
    },
    {
      "cell_type": "code",
      "execution_count": null,
      "metadata": {
        "id": "uXbi_82KOTzU"
      },
      "outputs": [],
      "source": [
        "neo4j_user = \"neo4j\" # put your neo4j user here"
      ]
    },
    {
      "cell_type": "code",
      "execution_count": null,
      "metadata": {
        "id": "Sw50wjxxOUqt"
      },
      "outputs": [],
      "source": [
        "neo4j_password = \"\" # put your neo4j password here"
      ]
    },
    {
      "cell_type": "code",
      "execution_count": null,
      "metadata": {
        "id": "dOUJ-W871Tur"
      },
      "outputs": [],
      "source": [
        "from pyspark.sql import SparkSession\n",
        "spark = (SparkSession.builder\n",
        "        .master('local[*]')\n",
        "        .appName('Data engineering workflow with Neo4j and Spark')\n",
        "        .config('spark.ui.port', '4050')\n",
        "        # Just to show dataframes as tables\n",
        "        .config('spark.sql.repl.eagerEval.enabled', True)\n",
        "        .config('spark.jars.packages', 'org.neo4j:neo4j-connector-apache-spark_2.12:5.1.0_for_spark_3')\n",
        "        # As we're using always the same database instance we'll\n",
        "        # define them as global variables\n",
        "        # so we don't need to repeat them each time\n",
        "        .config(\"neo4j.url\", neo4j_url)\n",
        "        .config(\"neo4j.authentication.type\", \"basic\")\n",
        "        .config(\"neo4j.authentication.basic.username\", neo4j_user)\n",
        "        .config(\"neo4j.authentication.basic.password\", neo4j_password)\n",
        "        .getOrCreate())\n",
        "spark"
      ]
    },
    {
      "cell_type": "markdown",
      "source": [
        "\n",
        "## Exercises prerequisite\n",
        "\n",
        "In this notebook we and going to test your knowledge. Some of the exercises require the Neo4j Python driver to check if the exercises are being solved correctly.\n",
        "\n",
        "*Neo4j Python Driver is required only for verifying the exercises when you persist data from Spark to Neo4j*\n",
        "\n",
        "**It's not required by the Spark connector!!!**\n",
        "\n",
        "We'll use [Cy2Py](https://github.com/conker84/cy2py), a Jupyter extension that easily allows you to connect to Neo4j and visualize data from Jupyter notebooks.\n",
        "For a detailed instruction about how to use it please dive into [this example](https://github.com/conker84/cy2py/blob/main/examples/Neo4j_Crime_Investigation_Dataset.ipynb)"
      ],
      "metadata": {
        "id": "b6_YNZnZ5GdT"
      }
    },
    {
      "cell_type": "code",
      "source": [
        "!pip install -q cy2py"
      ],
      "metadata": {
        "id": "f5ZZJylo5Bbz"
      },
      "execution_count": null,
      "outputs": []
    },
    {
      "cell_type": "markdown",
      "metadata": {
        "id": "CsnO4C9X7vK0"
      },
      "source": [
        "### Configure an Aura instance\n",
        "\n",
        "<center>\n",
        "<h3>Neo4j Aura DB is a fully managed cloud service: The zero-admin, always-on graph database for cloud developers.</h3>\n",
        "\n",
        "Create a [free instance](https://console.neo4j.io/?ref=aura-lp&mpp=4bfb2414ab973c741b6f067bf06d5575&mpid=17f40ce03ac883-0f09bb214466c1-37677109-1ea000-17f40ce03ad975&_gl=1*ql4f6s*_ga*MTc2OTMwNjEwMy4xNjQ5NDI3MDE0*_ga_DL38Q8KGQC*MTY1MzQxMDQzMC43OS4xLjE2NTM0MTA3MjQuMA..&_ga=2.136543024.1659283742.1653295079-1769306103.1649427014&_gac=1.216269284.1653306922.CjwKCAjw4ayUBhA4EiwATWyBrl6dN0oaH9_btCfvzdhi77ieNP07GAkOYuz7wx9QEewBnG_FUIMg8xoCgLsQAvD_BwE)\n",
        "\n",
        "</center>"
      ]
    },
    {
      "cell_type": "markdown",
      "source": [
        "let's load the extension"
      ],
      "metadata": {
        "id": "uKYEPEgOcG2b"
      }
    },
    {
      "cell_type": "code",
      "source": [
        "%load_ext cy2py"
      ],
      "metadata": {
        "id": "38EeXF6icKOK"
      },
      "execution_count": null,
      "outputs": []
    },
    {
      "cell_type": "markdown",
      "source": [
        "#### Populate the database\n",
        "\n",
        "To perform this section go in the Neo4j Brower of your aura instance and paste the following query:\n",
        "\n",
        "<details>\n",
        "<summary>\n",
        "Show the Cypher query\n",
        "</summary>\n",
        "\n",
        "```cypher\n",
        "CREATE (TheMatrix:Movie {title:'The Matrix', released:1999, tagline:'Welcome to the Real World'})\n",
        "CREATE (Keanu:Person {name:'Keanu Reeves', born:1964})\n",
        "CREATE (Carrie:Person {name:'Carrie-Anne Moss', born:1967})\n",
        "CREATE (Laurence:Person {name:'Laurence Fishburne', born:1961})\n",
        "CREATE (Hugo:Person {name:'Hugo Weaving', born:1960})\n",
        "CREATE (LillyW:Person {name:'Lilly Wachowski', born:1967})\n",
        "CREATE (LanaW:Person {name:'Lana Wachowski', born:1965})\n",
        "CREATE (JoelS:Person {name:'Joel Silver', born:1952})\n",
        "CREATE\n",
        "(Keanu)-[:ACTED_IN {roles:['Neo']}]->(TheMatrix),\n",
        "(Carrie)-[:ACTED_IN {roles:['Trinity']}]->(TheMatrix),\n",
        "(Laurence)-[:ACTED_IN {roles:['Morpheus']}]->(TheMatrix),\n",
        "(Hugo)-[:ACTED_IN {roles:['Agent Smith']}]->(TheMatrix),\n",
        "(LillyW)-[:DIRECTED]->(TheMatrix),\n",
        "(LanaW)-[:DIRECTED]->(TheMatrix),\n",
        "(JoelS)-[:PRODUCED]->(TheMatrix)\n",
        "\n",
        "CREATE (Emil:Person {name:\"Emil Eifrem\", born:1978})\n",
        "CREATE (Emil)-[:ACTED_IN {roles:[\"Emil\"]}]->(TheMatrix)\n",
        "\n",
        "CREATE (TheMatrixReloaded:Movie {title:'The Matrix Reloaded', released:2003, tagline:'Free your mind'})\n",
        "CREATE\n",
        "(Keanu)-[:ACTED_IN {roles:['Neo']}]->(TheMatrixReloaded),\n",
        "(Carrie)-[:ACTED_IN {roles:['Trinity']}]->(TheMatrixReloaded),\n",
        "(Laurence)-[:ACTED_IN {roles:['Morpheus']}]->(TheMatrixReloaded),\n",
        "(Hugo)-[:ACTED_IN {roles:['Agent Smith']}]->(TheMatrixReloaded),\n",
        "(LillyW)-[:DIRECTED]->(TheMatrixReloaded),\n",
        "(LanaW)-[:DIRECTED]->(TheMatrixReloaded),\n",
        "(JoelS)-[:PRODUCED]->(TheMatrixReloaded)\n",
        "\n",
        "CREATE (TheMatrixRevolutions:Movie {title:'The Matrix Revolutions', released:2003, tagline:'Everything that has a beginning has an end'})\n",
        "CREATE\n",
        "(Keanu)-[:ACTED_IN {roles:['Neo']}]->(TheMatrixRevolutions),\n",
        "(Carrie)-[:ACTED_IN {roles:['Trinity']}]->(TheMatrixRevolutions),\n",
        "(Laurence)-[:ACTED_IN {roles:['Morpheus']}]->(TheMatrixRevolutions),\n",
        "(Hugo)-[:ACTED_IN {roles:['Agent Smith']}]->(TheMatrixRevolutions),\n",
        "(LillyW)-[:DIRECTED]->(TheMatrixRevolutions),\n",
        "(LanaW)-[:DIRECTED]->(TheMatrixRevolutions),\n",
        "(JoelS)-[:PRODUCED]->(TheMatrixRevolutions)\n",
        "\n",
        "CREATE (TheDevilsAdvocate:Movie {title:\"The Devil's Advocate\", released:1997, tagline:'Evil has its winning ways'})\n",
        "CREATE (Charlize:Person {name:'Charlize Theron', born:1975})\n",
        "CREATE (Al:Person {name:'Al Pacino', born:1940})\n",
        "CREATE (Taylor:Person {name:'Taylor Hackford', born:1944})\n",
        "CREATE\n",
        "(Keanu)-[:ACTED_IN {roles:['Kevin Lomax']}]->(TheDevilsAdvocate),\n",
        "(Charlize)-[:ACTED_IN {roles:['Mary Ann Lomax']}]->(TheDevilsAdvocate),\n",
        "(Al)-[:ACTED_IN {roles:['John Milton']}]->(TheDevilsAdvocate),\n",
        "(Taylor)-[:DIRECTED]->(TheDevilsAdvocate)\n",
        "\n",
        "CREATE (AFewGoodMen:Movie {title:\"A Few Good Men\", released:1992, tagline:\"In the heart of the nation's capital, in a courthouse of the U.S. government, one man will stop at nothing to keep his honor, and one will stop at nothing to find the truth.\"})\n",
        "CREATE (TomC:Person {name:'Tom Cruise', born:1962})\n",
        "CREATE (JackN:Person {name:'Jack Nicholson', born:1937})\n",
        "CREATE (DemiM:Person {name:'Demi Moore', born:1962})\n",
        "CREATE (KevinB:Person {name:'Kevin Bacon', born:1958})\n",
        "CREATE (KieferS:Person {name:'Kiefer Sutherland', born:1966})\n",
        "CREATE (NoahW:Person {name:'Noah Wyle', born:1971})\n",
        "CREATE (CubaG:Person {name:'Cuba Gooding Jr.', born:1968})\n",
        "CREATE (KevinP:Person {name:'Kevin Pollak', born:1957})\n",
        "CREATE (JTW:Person {name:'J.T. Walsh', born:1943})\n",
        "CREATE (JamesM:Person {name:'James Marshall', born:1967})\n",
        "CREATE (ChristopherG:Person {name:'Christopher Guest', born:1948})\n",
        "CREATE (RobR:Person {name:'Rob Reiner', born:1947})\n",
        "CREATE (AaronS:Person {name:'Aaron Sorkin', born:1961})\n",
        "CREATE\n",
        "(TomC)-[:ACTED_IN {roles:['Lt. Daniel Kaffee']}]->(AFewGoodMen),\n",
        "(JackN)-[:ACTED_IN {roles:['Col. Nathan R. Jessup']}]->(AFewGoodMen),\n",
        "(DemiM)-[:ACTED_IN {roles:['Lt. Cdr. JoAnne Galloway']}]->(AFewGoodMen),\n",
        "(KevinB)-[:ACTED_IN {roles:['Capt. Jack Ross']}]->(AFewGoodMen),\n",
        "(KieferS)-[:ACTED_IN {roles:['Lt. Jonathan Kendrick']}]->(AFewGoodMen),\n",
        "(NoahW)-[:ACTED_IN {roles:['Cpl. Jeffrey Barnes']}]->(AFewGoodMen),\n",
        "(CubaG)-[:ACTED_IN {roles:['Cpl. Carl Hammaker']}]->(AFewGoodMen),\n",
        "(KevinP)-[:ACTED_IN {roles:['Lt. Sam Weinberg']}]->(AFewGoodMen),\n",
        "(JTW)-[:ACTED_IN {roles:['Lt. Col. Matthew Andrew Markinson']}]->(AFewGoodMen),\n",
        "(JamesM)-[:ACTED_IN {roles:['Pfc. Louden Downey']}]->(AFewGoodMen),\n",
        "(ChristopherG)-[:ACTED_IN {roles:['Dr. Stone']}]->(AFewGoodMen),\n",
        "(AaronS)-[:ACTED_IN {roles:['Man in Bar']}]->(AFewGoodMen),\n",
        "(RobR)-[:DIRECTED]->(AFewGoodMen),\n",
        "(AaronS)-[:WROTE]->(AFewGoodMen)\n",
        "\n",
        "CREATE (TopGun:Movie {title:\"Top Gun\", released:1986, tagline:'I feel the need, the need for speed.'})\n",
        "CREATE (KellyM:Person {name:'Kelly McGillis', born:1957})\n",
        "CREATE (ValK:Person {name:'Val Kilmer', born:1959})\n",
        "CREATE (AnthonyE:Person {name:'Anthony Edwards', born:1962})\n",
        "CREATE (TomS:Person {name:'Tom Skerritt', born:1933})\n",
        "CREATE (MegR:Person {name:'Meg Ryan', born:1961})\n",
        "CREATE (TonyS:Person {name:'Tony Scott', born:1944})\n",
        "CREATE (JimC:Person {name:'Jim Cash', born:1941})\n",
        "CREATE\n",
        "(TomC)-[:ACTED_IN {roles:['Maverick']}]->(TopGun),\n",
        "(KellyM)-[:ACTED_IN {roles:['Charlie']}]->(TopGun),\n",
        "(ValK)-[:ACTED_IN {roles:['Iceman']}]->(TopGun),\n",
        "(AnthonyE)-[:ACTED_IN {roles:['Goose']}]->(TopGun),\n",
        "(TomS)-[:ACTED_IN {roles:['Viper']}]->(TopGun),\n",
        "(MegR)-[:ACTED_IN {roles:['Carole']}]->(TopGun),\n",
        "(TonyS)-[:DIRECTED]->(TopGun),\n",
        "(JimC)-[:WROTE]->(TopGun)\n",
        "\n",
        "CREATE (JerryMaguire:Movie {title:'Jerry Maguire', released:2000, tagline:'The rest of his life begins now.'})\n",
        "CREATE (ReneeZ:Person {name:'Renee Zellweger', born:1969})\n",
        "CREATE (KellyP:Person {name:'Kelly Preston', born:1962})\n",
        "CREATE (JerryO:Person {name:\"Jerry O'Connell\", born:1974})\n",
        "CREATE (JayM:Person {name:'Jay Mohr', born:1970})\n",
        "CREATE (BonnieH:Person {name:'Bonnie Hunt', born:1961})\n",
        "CREATE (ReginaK:Person {name:'Regina King', born:1971})\n",
        "CREATE (JonathanL:Person {name:'Jonathan Lipnicki', born:1996})\n",
        "CREATE (CameronC:Person {name:'Cameron Crowe', born:1957})\n",
        "CREATE\n",
        "(TomC)-[:ACTED_IN {roles:['Jerry Maguire']}]->(JerryMaguire),\n",
        "(CubaG)-[:ACTED_IN {roles:['Rod Tidwell']}]->(JerryMaguire),\n",
        "(ReneeZ)-[:ACTED_IN {roles:['Dorothy Boyd']}]->(JerryMaguire),\n",
        "(KellyP)-[:ACTED_IN {roles:['Avery Bishop']}]->(JerryMaguire),\n",
        "(JerryO)-[:ACTED_IN {roles:['Frank Cushman']}]->(JerryMaguire),\n",
        "(JayM)-[:ACTED_IN {roles:['Bob Sugar']}]->(JerryMaguire),\n",
        "(BonnieH)-[:ACTED_IN {roles:['Laurel Boyd']}]->(JerryMaguire),\n",
        "(ReginaK)-[:ACTED_IN {roles:['Marcee Tidwell']}]->(JerryMaguire),\n",
        "(JonathanL)-[:ACTED_IN {roles:['Ray Boyd']}]->(JerryMaguire),\n",
        "(CameronC)-[:DIRECTED]->(JerryMaguire),\n",
        "(CameronC)-[:PRODUCED]->(JerryMaguire),\n",
        "(CameronC)-[:WROTE]->(JerryMaguire)\n",
        "\n",
        "CREATE (StandByMe:Movie {title:\"Stand By Me\", released:1986, tagline:\"For some, it's the last real taste of innocence, and the first real taste of life. But for everyone, it's the time that memories are made of.\"})\n",
        "CREATE (RiverP:Person {name:'River Phoenix', born:1970})\n",
        "CREATE (CoreyF:Person {name:'Corey Feldman', born:1971})\n",
        "CREATE (WilW:Person {name:'Wil Wheaton', born:1972})\n",
        "CREATE (JohnC:Person {name:'John Cusack', born:1966})\n",
        "CREATE (MarshallB:Person {name:'Marshall Bell', born:1942})\n",
        "CREATE\n",
        "(WilW)-[:ACTED_IN {roles:['Gordie Lachance']}]->(StandByMe),\n",
        "(RiverP)-[:ACTED_IN {roles:['Chris Chambers']}]->(StandByMe),\n",
        "(JerryO)-[:ACTED_IN {roles:['Vern Tessio']}]->(StandByMe),\n",
        "(CoreyF)-[:ACTED_IN {roles:['Teddy Duchamp']}]->(StandByMe),\n",
        "(JohnC)-[:ACTED_IN {roles:['Denny Lachance']}]->(StandByMe),\n",
        "(KieferS)-[:ACTED_IN {roles:['Ace Merrill']}]->(StandByMe),\n",
        "(MarshallB)-[:ACTED_IN {roles:['Mr. Lachance']}]->(StandByMe),\n",
        "(RobR)-[:DIRECTED]->(StandByMe)\n",
        "\n",
        "CREATE (AsGoodAsItGets:Movie {title:'As Good as It Gets', released:1997, tagline:'A comedy from the heart that goes for the throat.'})\n",
        "CREATE (HelenH:Person {name:'Helen Hunt', born:1963})\n",
        "CREATE (GregK:Person {name:'Greg Kinnear', born:1963})\n",
        "CREATE (JamesB:Person {name:'James L. Brooks', born:1940})\n",
        "CREATE\n",
        "(JackN)-[:ACTED_IN {roles:['Melvin Udall']}]->(AsGoodAsItGets),\n",
        "(HelenH)-[:ACTED_IN {roles:['Carol Connelly']}]->(AsGoodAsItGets),\n",
        "(GregK)-[:ACTED_IN {roles:['Simon Bishop']}]->(AsGoodAsItGets),\n",
        "(CubaG)-[:ACTED_IN {roles:['Frank Sachs']}]->(AsGoodAsItGets),\n",
        "(JamesB)-[:DIRECTED]->(AsGoodAsItGets)\n",
        "\n",
        "CREATE (WhatDreamsMayCome:Movie {title:'What Dreams May Come', released:1998, tagline:'After life there is more. The end is just the beginning.'})\n",
        "CREATE (AnnabellaS:Person {name:'Annabella Sciorra', born:1960})\n",
        "CREATE (MaxS:Person {name:'Max von Sydow', born:1929})\n",
        "CREATE (WernerH:Person {name:'Werner Herzog', born:1942})\n",
        "CREATE (Robin:Person {name:'Robin Williams', born:1951})\n",
        "CREATE (VincentW:Person {name:'Vincent Ward', born:1956})\n",
        "CREATE\n",
        "(Robin)-[:ACTED_IN {roles:['Chris Nielsen']}]->(WhatDreamsMayCome),\n",
        "(CubaG)-[:ACTED_IN {roles:['Albert Lewis']}]->(WhatDreamsMayCome),\n",
        "(AnnabellaS)-[:ACTED_IN {roles:['Annie Collins-Nielsen']}]->(WhatDreamsMayCome),\n",
        "(MaxS)-[:ACTED_IN {roles:['The Tracker']}]->(WhatDreamsMayCome),\n",
        "(WernerH)-[:ACTED_IN {roles:['The Face']}]->(WhatDreamsMayCome),\n",
        "(VincentW)-[:DIRECTED]->(WhatDreamsMayCome)\n",
        "\n",
        "CREATE (SnowFallingonCedars:Movie {title:'Snow Falling on Cedars', released:1999, tagline:'First loves last. Forever.'})\n",
        "CREATE (EthanH:Person {name:'Ethan Hawke', born:1970})\n",
        "CREATE (RickY:Person {name:'Rick Yune', born:1971})\n",
        "CREATE (JamesC:Person {name:'James Cromwell', born:1940})\n",
        "CREATE (ScottH:Person {name:'Scott Hicks', born:1953})\n",
        "CREATE\n",
        "(EthanH)-[:ACTED_IN {roles:['Ishmael Chambers']}]->(SnowFallingonCedars),\n",
        "(RickY)-[:ACTED_IN {roles:['Kazuo Miyamoto']}]->(SnowFallingonCedars),\n",
        "(MaxS)-[:ACTED_IN {roles:['Nels Gudmundsson']}]->(SnowFallingonCedars),\n",
        "(JamesC)-[:ACTED_IN {roles:['Judge Fielding']}]->(SnowFallingonCedars),\n",
        "(ScottH)-[:DIRECTED]->(SnowFallingonCedars)\n",
        "\n",
        "CREATE (YouveGotMail:Movie {title:\"You've Got Mail\", released:1998, tagline:'At odds in life... in love on-line.'})\n",
        "CREATE (ParkerP:Person {name:'Parker Posey', born:1968})\n",
        "CREATE (DaveC:Person {name:'Dave Chappelle', born:1973})\n",
        "CREATE (SteveZ:Person {name:'Steve Zahn', born:1967})\n",
        "CREATE (TomH:Person {name:'Tom Hanks', born:1956})\n",
        "CREATE (NoraE:Person {name:'Nora Ephron', born:1941})\n",
        "CREATE\n",
        "(TomH)-[:ACTED_IN {roles:['Joe Fox']}]->(YouveGotMail),\n",
        "(MegR)-[:ACTED_IN {roles:['Kathleen Kelly']}]->(YouveGotMail),\n",
        "(GregK)-[:ACTED_IN {roles:['Frank Navasky']}]->(YouveGotMail),\n",
        "(ParkerP)-[:ACTED_IN {roles:['Patricia Eden']}]->(YouveGotMail),\n",
        "(DaveC)-[:ACTED_IN {roles:['Kevin Jackson']}]->(YouveGotMail),\n",
        "(SteveZ)-[:ACTED_IN {roles:['George Pappas']}]->(YouveGotMail),\n",
        "(NoraE)-[:DIRECTED]->(YouveGotMail)\n",
        "\n",
        "CREATE (SleeplessInSeattle:Movie {title:'Sleepless in Seattle', released:1993, tagline:'What if someone you never met, someone you never saw, someone you never knew was the only someone for you?'})\n",
        "CREATE (RitaW:Person {name:'Rita Wilson', born:1956})\n",
        "CREATE (BillPull:Person {name:'Bill Pullman', born:1953})\n",
        "CREATE (VictorG:Person {name:'Victor Garber', born:1949})\n",
        "CREATE (RosieO:Person {name:\"Rosie O'Donnell\", born:1962})\n",
        "CREATE\n",
        "(TomH)-[:ACTED_IN {roles:['Sam Baldwin']}]->(SleeplessInSeattle),\n",
        "(MegR)-[:ACTED_IN {roles:['Annie Reed']}]->(SleeplessInSeattle),\n",
        "(RitaW)-[:ACTED_IN {roles:['Suzy']}]->(SleeplessInSeattle),\n",
        "(BillPull)-[:ACTED_IN {roles:['Walter']}]->(SleeplessInSeattle),\n",
        "(VictorG)-[:ACTED_IN {roles:['Greg']}]->(SleeplessInSeattle),\n",
        "(RosieO)-[:ACTED_IN {roles:['Becky']}]->(SleeplessInSeattle),\n",
        "(NoraE)-[:DIRECTED]->(SleeplessInSeattle)\n",
        "\n",
        "CREATE (JoeVersustheVolcano:Movie {title:'Joe Versus the Volcano', released:1990, tagline:'A story of love, lava and burning desire.'})\n",
        "CREATE (JohnS:Person {name:'John Patrick Stanley', born:1950})\n",
        "CREATE (Nathan:Person {name:'Nathan Lane', born:1956})\n",
        "CREATE\n",
        "(TomH)-[:ACTED_IN {roles:['Joe Banks']}]->(JoeVersustheVolcano),\n",
        "(MegR)-[:ACTED_IN {roles:['DeDe', 'Angelica Graynamore', 'Patricia Graynamore']}]->(JoeVersustheVolcano),\n",
        "(Nathan)-[:ACTED_IN {roles:['Baw']}]->(JoeVersustheVolcano),\n",
        "(JohnS)-[:DIRECTED]->(JoeVersustheVolcano)\n",
        "\n",
        "CREATE (WhenHarryMetSally:Movie {title:'When Harry Met Sally', released:1998, tagline:'Can two friends sleep together and still love each other in the morning?'})\n",
        "CREATE (BillyC:Person {name:'Billy Crystal', born:1948})\n",
        "CREATE (CarrieF:Person {name:'Carrie Fisher', born:1956})\n",
        "CREATE (BrunoK:Person {name:'Bruno Kirby', born:1949})\n",
        "CREATE\n",
        "(BillyC)-[:ACTED_IN {roles:['Harry Burns']}]->(WhenHarryMetSally),\n",
        "(MegR)-[:ACTED_IN {roles:['Sally Albright']}]->(WhenHarryMetSally),\n",
        "(CarrieF)-[:ACTED_IN {roles:['Marie']}]->(WhenHarryMetSally),\n",
        "(BrunoK)-[:ACTED_IN {roles:['Jess']}]->(WhenHarryMetSally),\n",
        "(RobR)-[:DIRECTED]->(WhenHarryMetSally),\n",
        "(RobR)-[:PRODUCED]->(WhenHarryMetSally),\n",
        "(NoraE)-[:PRODUCED]->(WhenHarryMetSally),\n",
        "(NoraE)-[:WROTE]->(WhenHarryMetSally)\n",
        "\n",
        "CREATE (ThatThingYouDo:Movie {title:'That Thing You Do', released:1996, tagline:'In every life there comes a time when that thing you dream becomes that thing you do'})\n",
        "CREATE (LivT:Person {name:'Liv Tyler', born:1977})\n",
        "CREATE\n",
        "(TomH)-[:ACTED_IN {roles:['Mr. White']}]->(ThatThingYouDo),\n",
        "(LivT)-[:ACTED_IN {roles:['Faye Dolan']}]->(ThatThingYouDo),\n",
        "(Charlize)-[:ACTED_IN {roles:['Tina']}]->(ThatThingYouDo),\n",
        "(TomH)-[:DIRECTED]->(ThatThingYouDo)\n",
        "\n",
        "CREATE (TheReplacements:Movie {title:'The Replacements', released:2000, tagline:'Pain heals, Chicks dig scars... Glory lasts forever'})\n",
        "CREATE (Brooke:Person {name:'Brooke Langton', born:1970})\n",
        "CREATE (Gene:Person {name:'Gene Hackman', born:1930})\n",
        "CREATE (Orlando:Person {name:'Orlando Jones', born:1968})\n",
        "CREATE (Howard:Person {name:'Howard Deutch', born:1950})\n",
        "CREATE\n",
        "(Keanu)-[:ACTED_IN {roles:['Shane Falco']}]->(TheReplacements),\n",
        "(Brooke)-[:ACTED_IN {roles:['Annabelle Farrell']}]->(TheReplacements),\n",
        "(Gene)-[:ACTED_IN {roles:['Jimmy McGinty']}]->(TheReplacements),\n",
        "(Orlando)-[:ACTED_IN {roles:['Clifford Franklin']}]->(TheReplacements),\n",
        "(Howard)-[:DIRECTED]->(TheReplacements)\n",
        "\n",
        "CREATE (RescueDawn:Movie {title:'RescueDawn', released:2006, tagline:\"Based on the extraordinary true story of one man's fight for freedom\"})\n",
        "CREATE (ChristianB:Person {name:'Christian Bale', born:1974})\n",
        "CREATE (ZachG:Person {name:'Zach Grenier', born:1954})\n",
        "CREATE\n",
        "(MarshallB)-[:ACTED_IN {roles:['Admiral']}]->(RescueDawn),\n",
        "(ChristianB)-[:ACTED_IN {roles:['Dieter Dengler']}]->(RescueDawn),\n",
        "(ZachG)-[:ACTED_IN {roles:['Squad Leader']}]->(RescueDawn),\n",
        "(SteveZ)-[:ACTED_IN {roles:['Duane']}]->(RescueDawn),\n",
        "(WernerH)-[:DIRECTED]->(RescueDawn)\n",
        "\n",
        "CREATE (TheBirdcage:Movie {title:'The Birdcage', released:1996, tagline:'Come as you are'})\n",
        "CREATE (MikeN:Person {name:'Mike Nichols', born:1931})\n",
        "CREATE\n",
        "(Robin)-[:ACTED_IN {roles:['Armand Goldman']}]->(TheBirdcage),\n",
        "(Nathan)-[:ACTED_IN {roles:['Albert Goldman']}]->(TheBirdcage),\n",
        "(Gene)-[:ACTED_IN {roles:['Sen. Kevin Keeley']}]->(TheBirdcage),\n",
        "(MikeN)-[:DIRECTED]->(TheBirdcage)\n",
        "\n",
        "CREATE (Unforgiven:Movie {title:'Unforgiven', released:1992, tagline:\"It's a hell of a thing, killing a man\"})\n",
        "CREATE (RichardH:Person {name:'Richard Harris', born:1930})\n",
        "CREATE (ClintE:Person {name:'Clint Eastwood', born:1930})\n",
        "CREATE\n",
        "(RichardH)-[:ACTED_IN {roles:['English Bob']}]->(Unforgiven),\n",
        "(ClintE)-[:ACTED_IN {roles:['Bill Munny']}]->(Unforgiven),\n",
        "(Gene)-[:ACTED_IN {roles:['Little Bill Daggett']}]->(Unforgiven),\n",
        "(ClintE)-[:DIRECTED]->(Unforgiven)\n",
        "\n",
        "CREATE (JohnnyMnemonic:Movie {title:'Johnny Mnemonic', released:1995, tagline:'The hottest data on earth. In the coolest head in town'})\n",
        "CREATE (Takeshi:Person {name:'Takeshi Kitano', born:1947})\n",
        "CREATE (Dina:Person {name:'Dina Meyer', born:1968})\n",
        "CREATE (IceT:Person {name:'Ice-T', born:1958})\n",
        "CREATE (RobertL:Person {name:'Robert Longo', born:1953})\n",
        "CREATE\n",
        "(Keanu)-[:ACTED_IN {roles:['Johnny Mnemonic']}]->(JohnnyMnemonic),\n",
        "(Takeshi)-[:ACTED_IN {roles:['Takahashi']}]->(JohnnyMnemonic),\n",
        "(Dina)-[:ACTED_IN {roles:['Jane']}]->(JohnnyMnemonic),\n",
        "(IceT)-[:ACTED_IN {roles:['J-Bone']}]->(JohnnyMnemonic),\n",
        "(RobertL)-[:DIRECTED]->(JohnnyMnemonic)\n",
        "\n",
        "CREATE (CloudAtlas:Movie {title:'Cloud Atlas', released:2012, tagline:'Everything is connected'})\n",
        "CREATE (HalleB:Person {name:'Halle Berry', born:1966})\n",
        "CREATE (JimB:Person {name:'Jim Broadbent', born:1949})\n",
        "CREATE (TomT:Person {name:'Tom Tykwer', born:1965})\n",
        "CREATE (DavidMitchell:Person {name:'David Mitchell', born:1969})\n",
        "CREATE (StefanArndt:Person {name:'Stefan Arndt', born:1961})\n",
        "CREATE\n",
        "(TomH)-[:ACTED_IN {roles:['Zachry', 'Dr. Henry Goose', 'Isaac Sachs', 'Dermot Hoggins']}]->(CloudAtlas),\n",
        "(Hugo)-[:ACTED_IN {roles:['Bill Smoke', 'Haskell Moore', 'Tadeusz Kesselring', 'Nurse Noakes', 'Boardman Mephi', 'Old Georgie']}]->(CloudAtlas),\n",
        "(HalleB)-[:ACTED_IN {roles:['Luisa Rey', 'Jocasta Ayrs', 'Ovid', 'Meronym']}]->(CloudAtlas),\n",
        "(JimB)-[:ACTED_IN {roles:['Vyvyan Ayrs', 'Captain Molyneux', 'Timothy Cavendish']}]->(CloudAtlas),\n",
        "(TomT)-[:DIRECTED]->(CloudAtlas),\n",
        "(LillyW)-[:DIRECTED]->(CloudAtlas),\n",
        "(LanaW)-[:DIRECTED]->(CloudAtlas),\n",
        "(DavidMitchell)-[:WROTE]->(CloudAtlas),\n",
        "(StefanArndt)-[:PRODUCED]->(CloudAtlas)\n",
        "\n",
        "CREATE (TheDaVinciCode:Movie {title:'The Da Vinci Code', released:2006, tagline:'Break The Codes'})\n",
        "CREATE (IanM:Person {name:'Ian McKellen', born:1939})\n",
        "CREATE (AudreyT:Person {name:'Audrey Tautou', born:1976})\n",
        "CREATE (PaulB:Person {name:'Paul Bettany', born:1971})\n",
        "CREATE (RonH:Person {name:'Ron Howard', born:1954})\n",
        "CREATE\n",
        "(TomH)-[:ACTED_IN {roles:['Dr. Robert Langdon']}]->(TheDaVinciCode),\n",
        "(IanM)-[:ACTED_IN {roles:['Sir Leight Teabing']}]->(TheDaVinciCode),\n",
        "(AudreyT)-[:ACTED_IN {roles:['Sophie Neveu']}]->(TheDaVinciCode),\n",
        "(PaulB)-[:ACTED_IN {roles:['Silas']}]->(TheDaVinciCode),\n",
        "(RonH)-[:DIRECTED]->(TheDaVinciCode)\n",
        "\n",
        "CREATE (VforVendetta:Movie {title:'V for Vendetta', released:2006, tagline:'Freedom! Forever!'})\n",
        "CREATE (NatalieP:Person {name:'Natalie Portman', born:1981})\n",
        "CREATE (StephenR:Person {name:'Stephen Rea', born:1946})\n",
        "CREATE (JohnH:Person {name:'John Hurt', born:1940})\n",
        "CREATE (BenM:Person {name: 'Ben Miles', born:1967})\n",
        "CREATE\n",
        "(Hugo)-[:ACTED_IN {roles:['V']}]->(VforVendetta),\n",
        "(NatalieP)-[:ACTED_IN {roles:['Evey Hammond']}]->(VforVendetta),\n",
        "(StephenR)-[:ACTED_IN {roles:['Eric Finch']}]->(VforVendetta),\n",
        "(JohnH)-[:ACTED_IN {roles:['High Chancellor Adam Sutler']}]->(VforVendetta),\n",
        "(BenM)-[:ACTED_IN {roles:['Dascomb']}]->(VforVendetta),\n",
        "(JamesM)-[:DIRECTED]->(VforVendetta),\n",
        "(LillyW)-[:PRODUCED]->(VforVendetta),\n",
        "(LanaW)-[:PRODUCED]->(VforVendetta),\n",
        "(JoelS)-[:PRODUCED]->(VforVendetta),\n",
        "(LillyW)-[:WROTE]->(VforVendetta),\n",
        "(LanaW)-[:WROTE]->(VforVendetta)\n",
        "\n",
        "CREATE (SpeedRacer:Movie {title:'Speed Racer', released:2008, tagline:'Speed has no limits'})\n",
        "CREATE (EmileH:Person {name:'Emile Hirsch', born:1985})\n",
        "CREATE (JohnG:Person {name:'John Goodman', born:1960})\n",
        "CREATE (SusanS:Person {name:'Susan Sarandon', born:1946})\n",
        "CREATE (MatthewF:Person {name:'Matthew Fox', born:1966})\n",
        "CREATE (ChristinaR:Person {name:'Christina Ricci', born:1980})\n",
        "CREATE (Rain:Person {name:'Rain', born:1982})\n",
        "CREATE\n",
        "(EmileH)-[:ACTED_IN {roles:['Speed Racer']}]->(SpeedRacer),\n",
        "(JohnG)-[:ACTED_IN {roles:['Pops']}]->(SpeedRacer),\n",
        "(SusanS)-[:ACTED_IN {roles:['Mom']}]->(SpeedRacer),\n",
        "(MatthewF)-[:ACTED_IN {roles:['Racer X']}]->(SpeedRacer),\n",
        "(ChristinaR)-[:ACTED_IN {roles:['Trixie']}]->(SpeedRacer),\n",
        "(Rain)-[:ACTED_IN {roles:['Taejo Togokahn']}]->(SpeedRacer),\n",
        "(BenM)-[:ACTED_IN {roles:['Cass Jones']}]->(SpeedRacer),\n",
        "(LillyW)-[:DIRECTED]->(SpeedRacer),\n",
        "(LanaW)-[:DIRECTED]->(SpeedRacer),\n",
        "(LillyW)-[:WROTE]->(SpeedRacer),\n",
        "(LanaW)-[:WROTE]->(SpeedRacer),\n",
        "(JoelS)-[:PRODUCED]->(SpeedRacer)\n",
        "\n",
        "CREATE (NinjaAssassin:Movie {title:'Ninja Assassin', released:2009, tagline:'Prepare to enter a secret world of assassins'})\n",
        "CREATE (NaomieH:Person {name:'Naomie Harris'})\n",
        "CREATE\n",
        "(Rain)-[:ACTED_IN {roles:['Raizo']}]->(NinjaAssassin),\n",
        "(NaomieH)-[:ACTED_IN {roles:['Mika Coretti']}]->(NinjaAssassin),\n",
        "(RickY)-[:ACTED_IN {roles:['Takeshi']}]->(NinjaAssassin),\n",
        "(BenM)-[:ACTED_IN {roles:['Ryan Maslow']}]->(NinjaAssassin),\n",
        "(JamesM)-[:DIRECTED]->(NinjaAssassin),\n",
        "(LillyW)-[:PRODUCED]->(NinjaAssassin),\n",
        "(LanaW)-[:PRODUCED]->(NinjaAssassin),\n",
        "(JoelS)-[:PRODUCED]->(NinjaAssassin)\n",
        "\n",
        "CREATE (TheGreenMile:Movie {title:'The Green Mile', released:1999, tagline:\"Walk a mile you'll never forget.\"})\n",
        "CREATE (MichaelD:Person {name:'Michael Clarke Duncan', born:1957})\n",
        "CREATE (DavidM:Person {name:'David Morse', born:1953})\n",
        "CREATE (SamR:Person {name:'Sam Rockwell', born:1968})\n",
        "CREATE (GaryS:Person {name:'Gary Sinise', born:1955})\n",
        "CREATE (PatriciaC:Person {name:'Patricia Clarkson', born:1959})\n",
        "CREATE (FrankD:Person {name:'Frank Darabont', born:1959})\n",
        "CREATE\n",
        "(TomH)-[:ACTED_IN {roles:['Paul Edgecomb']}]->(TheGreenMile),\n",
        "(MichaelD)-[:ACTED_IN {roles:['John Coffey']}]->(TheGreenMile),\n",
        "(DavidM)-[:ACTED_IN {roles:['Brutus \"Brutal\" Howell']}]->(TheGreenMile),\n",
        "(BonnieH)-[:ACTED_IN {roles:['Jan Edgecomb']}]->(TheGreenMile),\n",
        "(JamesC)-[:ACTED_IN {roles:['Warden Hal Moores']}]->(TheGreenMile),\n",
        "(SamR)-[:ACTED_IN {roles:['\"Wild Bill\" Wharton']}]->(TheGreenMile),\n",
        "(GaryS)-[:ACTED_IN {roles:['Burt Hammersmith']}]->(TheGreenMile),\n",
        "(PatriciaC)-[:ACTED_IN {roles:['Melinda Moores']}]->(TheGreenMile),\n",
        "(FrankD)-[:DIRECTED]->(TheGreenMile)\n",
        "\n",
        "CREATE (FrostNixon:Movie {title:'Frost/Nixon', released:2008, tagline:'400 million people were waiting for the truth.'})\n",
        "CREATE (FrankL:Person {name:'Frank Langella', born:1938})\n",
        "CREATE (MichaelS:Person {name:'Michael Sheen', born:1969})\n",
        "CREATE (OliverP:Person {name:'Oliver Platt', born:1960})\n",
        "CREATE\n",
        "(FrankL)-[:ACTED_IN {roles:['Richard Nixon']}]->(FrostNixon),\n",
        "(MichaelS)-[:ACTED_IN {roles:['David Frost']}]->(FrostNixon),\n",
        "(KevinB)-[:ACTED_IN {roles:['Jack Brennan']}]->(FrostNixon),\n",
        "(OliverP)-[:ACTED_IN {roles:['Bob Zelnick']}]->(FrostNixon),\n",
        "(SamR)-[:ACTED_IN {roles:['James Reston, Jr.']}]->(FrostNixon),\n",
        "(RonH)-[:DIRECTED]->(FrostNixon)\n",
        "\n",
        "CREATE (Hoffa:Movie {title:'Hoffa', released:1992, tagline:\"He didn't want law. He wanted justice.\"})\n",
        "CREATE (DannyD:Person {name:'Danny DeVito', born:1944})\n",
        "CREATE (JohnR:Person {name:'John C. Reilly', born:1965})\n",
        "CREATE\n",
        "(JackN)-[:ACTED_IN {roles:['Hoffa']}]->(Hoffa),\n",
        "(DannyD)-[:ACTED_IN {roles:['Robert \"Bobby\" Ciaro']}]->(Hoffa),\n",
        "(JTW)-[:ACTED_IN {roles:['Frank Fitzsimmons']}]->(Hoffa),\n",
        "(JohnR)-[:ACTED_IN {roles:['Peter \"Pete\" Connelly']}]->(Hoffa),\n",
        "(DannyD)-[:DIRECTED]->(Hoffa)\n",
        "\n",
        "CREATE (Apollo13:Movie {title:'Apollo 13', released:1995, tagline:'Houston, we have a problem.'})\n",
        "CREATE (EdH:Person {name:'Ed Harris', born:1950})\n",
        "CREATE (BillPax:Person {name:'Bill Paxton', born:1955})\n",
        "CREATE\n",
        "(TomH)-[:ACTED_IN {roles:['Jim Lovell']}]->(Apollo13),\n",
        "(KevinB)-[:ACTED_IN {roles:['Jack Swigert']}]->(Apollo13),\n",
        "(EdH)-[:ACTED_IN {roles:['Gene Kranz']}]->(Apollo13),\n",
        "(BillPax)-[:ACTED_IN {roles:['Fred Haise']}]->(Apollo13),\n",
        "(GaryS)-[:ACTED_IN {roles:['Ken Mattingly']}]->(Apollo13),\n",
        "(RonH)-[:DIRECTED]->(Apollo13)\n",
        "\n",
        "CREATE (Twister:Movie {title:'Twister', released:1996, tagline:\"Don't Breathe. Don't Look Back.\"})\n",
        "CREATE (PhilipH:Person {name:'Philip Seymour Hoffman', born:1967})\n",
        "CREATE (JanB:Person {name:'Jan de Bont', born:1943})\n",
        "CREATE\n",
        "(BillPax)-[:ACTED_IN {roles:['Bill Harding']}]->(Twister),\n",
        "(HelenH)-[:ACTED_IN {roles:['Dr. Jo Harding']}]->(Twister),\n",
        "(ZachG)-[:ACTED_IN {roles:['Eddie']}]->(Twister),\n",
        "(PhilipH)-[:ACTED_IN {roles:['Dustin \"Dusty\" Davis']}]->(Twister),\n",
        "(JanB)-[:DIRECTED]->(Twister)\n",
        "\n",
        "CREATE (CastAway:Movie {title:'Cast Away', released:2000, tagline:'At the edge of the world, his journey begins.'})\n",
        "CREATE (RobertZ:Person {name:'Robert Zemeckis', born:1951})\n",
        "CREATE\n",
        "(TomH)-[:ACTED_IN {roles:['Chuck Noland']}]->(CastAway),\n",
        "(HelenH)-[:ACTED_IN {roles:['Kelly Frears']}]->(CastAway),\n",
        "(RobertZ)-[:DIRECTED]->(CastAway)\n",
        "\n",
        "CREATE (OneFlewOvertheCuckoosNest:Movie {title:\"One Flew Over the Cuckoo's Nest\", released:1975, tagline:\"If he's crazy, what does that make you?\"})\n",
        "CREATE (MilosF:Person {name:'Milos Forman', born:1932})\n",
        "CREATE\n",
        "(JackN)-[:ACTED_IN {roles:['Randle McMurphy']}]->(OneFlewOvertheCuckoosNest),\n",
        "(DannyD)-[:ACTED_IN {roles:['Martini']}]->(OneFlewOvertheCuckoosNest),\n",
        "(MilosF)-[:DIRECTED]->(OneFlewOvertheCuckoosNest)\n",
        "\n",
        "CREATE (SomethingsGottaGive:Movie {title:\"Something's Gotta Give\", released:2003})\n",
        "CREATE (DianeK:Person {name:'Diane Keaton', born:1946})\n",
        "CREATE (NancyM:Person {name:'Nancy Meyers', born:1949})\n",
        "CREATE\n",
        "(JackN)-[:ACTED_IN {roles:['Harry Sanborn']}]->(SomethingsGottaGive),\n",
        "(DianeK)-[:ACTED_IN {roles:['Erica Barry']}]->(SomethingsGottaGive),\n",
        "(Keanu)-[:ACTED_IN {roles:['Julian Mercer']}]->(SomethingsGottaGive),\n",
        "(NancyM)-[:DIRECTED]->(SomethingsGottaGive),\n",
        "(NancyM)-[:PRODUCED]->(SomethingsGottaGive),\n",
        "(NancyM)-[:WROTE]->(SomethingsGottaGive)\n",
        "\n",
        "CREATE (BicentennialMan:Movie {title:'Bicentennial Man', released:1999, tagline:\"One robot's 200 year journey to become an ordinary man.\"})\n",
        "CREATE (ChrisC:Person {name:'Chris Columbus', born:1958})\n",
        "CREATE\n",
        "(Robin)-[:ACTED_IN {roles:['Andrew Marin']}]->(BicentennialMan),\n",
        "(OliverP)-[:ACTED_IN {roles:['Rupert Burns']}]->(BicentennialMan),\n",
        "(ChrisC)-[:DIRECTED]->(BicentennialMan)\n",
        "\n",
        "CREATE (CharlieWilsonsWar:Movie {title:\"Charlie Wilson's War\", released:2007, tagline:\"A stiff drink. A little mascara. A lot of nerve. Who said they couldn't bring down the Soviet empire.\"})\n",
        "CREATE (JuliaR:Person {name:'Julia Roberts', born:1967})\n",
        "CREATE\n",
        "(TomH)-[:ACTED_IN {roles:['Rep. Charlie Wilson']}]->(CharlieWilsonsWar),\n",
        "(JuliaR)-[:ACTED_IN {roles:['Joanne Herring']}]->(CharlieWilsonsWar),\n",
        "(PhilipH)-[:ACTED_IN {roles:['Gust Avrakotos']}]->(CharlieWilsonsWar),\n",
        "(MikeN)-[:DIRECTED]->(CharlieWilsonsWar)\n",
        "\n",
        "CREATE (ThePolarExpress:Movie {title:'The Polar Express', released:2004, tagline:'This Holiday Season... Believe'})\n",
        "CREATE\n",
        "(TomH)-[:ACTED_IN {roles:['Hero Boy', 'Father', 'Conductor', 'Hobo', 'Scrooge', 'Santa Claus']}]->(ThePolarExpress),\n",
        "(RobertZ)-[:DIRECTED]->(ThePolarExpress)\n",
        "\n",
        "CREATE (ALeagueofTheirOwn:Movie {title:'A League of Their Own', released:1992, tagline:'Once in a lifetime you get a chance to do something different.'})\n",
        "CREATE (Madonna:Person {name:'Madonna', born:1954})\n",
        "CREATE (GeenaD:Person {name:'Geena Davis', born:1956})\n",
        "CREATE (LoriP:Person {name:'Lori Petty', born:1963})\n",
        "CREATE (PennyM:Person {name:'Penny Marshall', born:1943})\n",
        "CREATE\n",
        "(TomH)-[:ACTED_IN {roles:['Jimmy Dugan']}]->(ALeagueofTheirOwn),\n",
        "(GeenaD)-[:ACTED_IN {roles:['Dottie Hinson']}]->(ALeagueofTheirOwn),\n",
        "(LoriP)-[:ACTED_IN {roles:['Kit Keller']}]->(ALeagueofTheirOwn),\n",
        "(RosieO)-[:ACTED_IN {roles:['Doris Murphy']}]->(ALeagueofTheirOwn),\n",
        "(Madonna)-[:ACTED_IN {roles:['\"All the Way\" Mae Mordabito']}]->(ALeagueofTheirOwn),\n",
        "(BillPax)-[:ACTED_IN {roles:['Bob Hinson']}]->(ALeagueofTheirOwn),\n",
        "(PennyM)-[:DIRECTED]->(ALeagueofTheirOwn)\n",
        "\n",
        "CREATE (PaulBlythe:Person {name:'Paul Blythe'})\n",
        "CREATE (AngelaScope:Person {name:'Angela Scope'})\n",
        "CREATE (JessicaThompson:Person {name:'Jessica Thompson'})\n",
        "CREATE (JamesThompson:Person {name:'James Thompson'})\n",
        "\n",
        "CREATE\n",
        "(JamesThompson)-[:FOLLOWS]->(JessicaThompson),\n",
        "(AngelaScope)-[:FOLLOWS]->(JessicaThompson),\n",
        "(PaulBlythe)-[:FOLLOWS]->(AngelaScope)\n",
        "\n",
        "CREATE\n",
        "(JessicaThompson)-[:REVIEWED {summary:'An amazing journey', rating:95}]->(CloudAtlas),\n",
        "(JessicaThompson)-[:REVIEWED {summary:'Silly, but fun', rating:65}]->(TheReplacements),\n",
        "(JamesThompson)-[:REVIEWED {summary:'The coolest football movie ever', rating:100}]->(TheReplacements),\n",
        "(AngelaScope)-[:REVIEWED {summary:'Pretty funny at times', rating:62}]->(TheReplacements),\n",
        "(JessicaThompson)-[:REVIEWED {summary:'Dark, but compelling', rating:85}]->(Unforgiven),\n",
        "(JessicaThompson)-[:REVIEWED {summary:\"Slapstick redeemed only by the Robin Williams and Gene Hackman's stellar performances\", rating:45}]->(TheBirdcage),\n",
        "(JessicaThompson)-[:REVIEWED {summary:'A solid romp', rating:68}]->(TheDaVinciCode),\n",
        "(JamesThompson)-[:REVIEWED {summary:'Fun, but a little far fetched', rating:65}]->(TheDaVinciCode),\n",
        "(JessicaThompson)-[:REVIEWED {summary:'You had me at Jerry', rating:92}]->(JerryMaguire)\n",
        "\n",
        "WITH TomH as a\n",
        "MATCH (a)-[:ACTED_IN]->(m)<-[:DIRECTED]-(d) RETURN a,m,d LIMIT 10;\n",
        "```\n",
        "\n",
        "</details>\n",
        "\n",
        "This will create the following graph model\n",
        "\n",
        "<img src=\"data:image/png;base64,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\" >"
      ],
      "metadata": {
        "id": "AQhqv93Mj0Ss"
      }
    },
    {
      "cell_type": "code",
      "source": [
        "%%cypher -u $neo4j_url -us $neo4j_user -pw $neo4j_password\n",
        "// the following Cypher query is the same as above\n",
        "// and is required for running the notebook\n",
        "CREATE (TheMatrix:Movie {title:'The Matrix', released:1999, tagline:'Welcome to the Real World'})\n",
        "CREATE (Keanu:Person {name:'Keanu Reeves', born:1964})\n",
        "CREATE (Carrie:Person {name:'Carrie-Anne Moss', born:1967})\n",
        "CREATE (Laurence:Person {name:'Laurence Fishburne', born:1961})\n",
        "CREATE (Hugo:Person {name:'Hugo Weaving', born:1960})\n",
        "CREATE (LillyW:Person {name:'Lilly Wachowski', born:1967})\n",
        "CREATE (LanaW:Person {name:'Lana Wachowski', born:1965})\n",
        "CREATE (JoelS:Person {name:'Joel Silver', born:1952})\n",
        "CREATE\n",
        "(Keanu)-[:ACTED_IN {roles:['Neo']}]->(TheMatrix),\n",
        "(Carrie)-[:ACTED_IN {roles:['Trinity']}]->(TheMatrix),\n",
        "(Laurence)-[:ACTED_IN {roles:['Morpheus']}]->(TheMatrix),\n",
        "(Hugo)-[:ACTED_IN {roles:['Agent Smith']}]->(TheMatrix),\n",
        "(LillyW)-[:DIRECTED]->(TheMatrix),\n",
        "(LanaW)-[:DIRECTED]->(TheMatrix),\n",
        "(JoelS)-[:PRODUCED]->(TheMatrix)\n",
        "\n",
        "CREATE (Emil:Person {name:\"Emil Eifrem\", born:1978})\n",
        "CREATE (Emil)-[:ACTED_IN {roles:[\"Emil\"]}]->(TheMatrix)\n",
        "\n",
        "CREATE (TheMatrixReloaded:Movie {title:'The Matrix Reloaded', released:2003, tagline:'Free your mind'})\n",
        "CREATE\n",
        "(Keanu)-[:ACTED_IN {roles:['Neo']}]->(TheMatrixReloaded),\n",
        "(Carrie)-[:ACTED_IN {roles:['Trinity']}]->(TheMatrixReloaded),\n",
        "(Laurence)-[:ACTED_IN {roles:['Morpheus']}]->(TheMatrixReloaded),\n",
        "(Hugo)-[:ACTED_IN {roles:['Agent Smith']}]->(TheMatrixReloaded),\n",
        "(LillyW)-[:DIRECTED]->(TheMatrixReloaded),\n",
        "(LanaW)-[:DIRECTED]->(TheMatrixReloaded),\n",
        "(JoelS)-[:PRODUCED]->(TheMatrixReloaded)\n",
        "\n",
        "CREATE (TheMatrixRevolutions:Movie {title:'The Matrix Revolutions', released:2003, tagline:'Everything that has a beginning has an end'})\n",
        "CREATE\n",
        "(Keanu)-[:ACTED_IN {roles:['Neo']}]->(TheMatrixRevolutions),\n",
        "(Carrie)-[:ACTED_IN {roles:['Trinity']}]->(TheMatrixRevolutions),\n",
        "(Laurence)-[:ACTED_IN {roles:['Morpheus']}]->(TheMatrixRevolutions),\n",
        "(Hugo)-[:ACTED_IN {roles:['Agent Smith']}]->(TheMatrixRevolutions),\n",
        "(LillyW)-[:DIRECTED]->(TheMatrixRevolutions),\n",
        "(LanaW)-[:DIRECTED]->(TheMatrixRevolutions),\n",
        "(JoelS)-[:PRODUCED]->(TheMatrixRevolutions)\n",
        "\n",
        "CREATE (TheDevilsAdvocate:Movie {title:\"The Devil's Advocate\", released:1997, tagline:'Evil has its winning ways'})\n",
        "CREATE (Charlize:Person {name:'Charlize Theron', born:1975})\n",
        "CREATE (Al:Person {name:'Al Pacino', born:1940})\n",
        "CREATE (Taylor:Person {name:'Taylor Hackford', born:1944})\n",
        "CREATE\n",
        "(Keanu)-[:ACTED_IN {roles:['Kevin Lomax']}]->(TheDevilsAdvocate),\n",
        "(Charlize)-[:ACTED_IN {roles:['Mary Ann Lomax']}]->(TheDevilsAdvocate),\n",
        "(Al)-[:ACTED_IN {roles:['John Milton']}]->(TheDevilsAdvocate),\n",
        "(Taylor)-[:DIRECTED]->(TheDevilsAdvocate)\n",
        "\n",
        "CREATE (AFewGoodMen:Movie {title:\"A Few Good Men\", released:1992, tagline:\"In the heart of the nation's capital, in a courthouse of the U.S. government, one man will stop at nothing to keep his honor, and one will stop at nothing to find the truth.\"})\n",
        "CREATE (TomC:Person {name:'Tom Cruise', born:1962})\n",
        "CREATE (JackN:Person {name:'Jack Nicholson', born:1937})\n",
        "CREATE (DemiM:Person {name:'Demi Moore', born:1962})\n",
        "CREATE (KevinB:Person {name:'Kevin Bacon', born:1958})\n",
        "CREATE (KieferS:Person {name:'Kiefer Sutherland', born:1966})\n",
        "CREATE (NoahW:Person {name:'Noah Wyle', born:1971})\n",
        "CREATE (CubaG:Person {name:'Cuba Gooding Jr.', born:1968})\n",
        "CREATE (KevinP:Person {name:'Kevin Pollak', born:1957})\n",
        "CREATE (JTW:Person {name:'J.T. Walsh', born:1943})\n",
        "CREATE (JamesM:Person {name:'James Marshall', born:1967})\n",
        "CREATE (ChristopherG:Person {name:'Christopher Guest', born:1948})\n",
        "CREATE (RobR:Person {name:'Rob Reiner', born:1947})\n",
        "CREATE (AaronS:Person {name:'Aaron Sorkin', born:1961})\n",
        "CREATE\n",
        "(TomC)-[:ACTED_IN {roles:['Lt. Daniel Kaffee']}]->(AFewGoodMen),\n",
        "(JackN)-[:ACTED_IN {roles:['Col. Nathan R. Jessup']}]->(AFewGoodMen),\n",
        "(DemiM)-[:ACTED_IN {roles:['Lt. Cdr. JoAnne Galloway']}]->(AFewGoodMen),\n",
        "(KevinB)-[:ACTED_IN {roles:['Capt. Jack Ross']}]->(AFewGoodMen),\n",
        "(KieferS)-[:ACTED_IN {roles:['Lt. Jonathan Kendrick']}]->(AFewGoodMen),\n",
        "(NoahW)-[:ACTED_IN {roles:['Cpl. Jeffrey Barnes']}]->(AFewGoodMen),\n",
        "(CubaG)-[:ACTED_IN {roles:['Cpl. Carl Hammaker']}]->(AFewGoodMen),\n",
        "(KevinP)-[:ACTED_IN {roles:['Lt. Sam Weinberg']}]->(AFewGoodMen),\n",
        "(JTW)-[:ACTED_IN {roles:['Lt. Col. Matthew Andrew Markinson']}]->(AFewGoodMen),\n",
        "(JamesM)-[:ACTED_IN {roles:['Pfc. Louden Downey']}]->(AFewGoodMen),\n",
        "(ChristopherG)-[:ACTED_IN {roles:['Dr. Stone']}]->(AFewGoodMen),\n",
        "(AaronS)-[:ACTED_IN {roles:['Man in Bar']}]->(AFewGoodMen),\n",
        "(RobR)-[:DIRECTED]->(AFewGoodMen),\n",
        "(AaronS)-[:WROTE]->(AFewGoodMen)\n",
        "\n",
        "CREATE (TopGun:Movie {title:\"Top Gun\", released:1986, tagline:'I feel the need, the need for speed.'})\n",
        "CREATE (KellyM:Person {name:'Kelly McGillis', born:1957})\n",
        "CREATE (ValK:Person {name:'Val Kilmer', born:1959})\n",
        "CREATE (AnthonyE:Person {name:'Anthony Edwards', born:1962})\n",
        "CREATE (TomS:Person {name:'Tom Skerritt', born:1933})\n",
        "CREATE (MegR:Person {name:'Meg Ryan', born:1961})\n",
        "CREATE (TonyS:Person {name:'Tony Scott', born:1944})\n",
        "CREATE (JimC:Person {name:'Jim Cash', born:1941})\n",
        "CREATE\n",
        "(TomC)-[:ACTED_IN {roles:['Maverick']}]->(TopGun),\n",
        "(KellyM)-[:ACTED_IN {roles:['Charlie']}]->(TopGun),\n",
        "(ValK)-[:ACTED_IN {roles:['Iceman']}]->(TopGun),\n",
        "(AnthonyE)-[:ACTED_IN {roles:['Goose']}]->(TopGun),\n",
        "(TomS)-[:ACTED_IN {roles:['Viper']}]->(TopGun),\n",
        "(MegR)-[:ACTED_IN {roles:['Carole']}]->(TopGun),\n",
        "(TonyS)-[:DIRECTED]->(TopGun),\n",
        "(JimC)-[:WROTE]->(TopGun)\n",
        "\n",
        "CREATE (JerryMaguire:Movie {title:'Jerry Maguire', released:2000, tagline:'The rest of his life begins now.'})\n",
        "CREATE (ReneeZ:Person {name:'Renee Zellweger', born:1969})\n",
        "CREATE (KellyP:Person {name:'Kelly Preston', born:1962})\n",
        "CREATE (JerryO:Person {name:\"Jerry O'Connell\", born:1974})\n",
        "CREATE (JayM:Person {name:'Jay Mohr', born:1970})\n",
        "CREATE (BonnieH:Person {name:'Bonnie Hunt', born:1961})\n",
        "CREATE (ReginaK:Person {name:'Regina King', born:1971})\n",
        "CREATE (JonathanL:Person {name:'Jonathan Lipnicki', born:1996})\n",
        "CREATE (CameronC:Person {name:'Cameron Crowe', born:1957})\n",
        "CREATE\n",
        "(TomC)-[:ACTED_IN {roles:['Jerry Maguire']}]->(JerryMaguire),\n",
        "(CubaG)-[:ACTED_IN {roles:['Rod Tidwell']}]->(JerryMaguire),\n",
        "(ReneeZ)-[:ACTED_IN {roles:['Dorothy Boyd']}]->(JerryMaguire),\n",
        "(KellyP)-[:ACTED_IN {roles:['Avery Bishop']}]->(JerryMaguire),\n",
        "(JerryO)-[:ACTED_IN {roles:['Frank Cushman']}]->(JerryMaguire),\n",
        "(JayM)-[:ACTED_IN {roles:['Bob Sugar']}]->(JerryMaguire),\n",
        "(BonnieH)-[:ACTED_IN {roles:['Laurel Boyd']}]->(JerryMaguire),\n",
        "(ReginaK)-[:ACTED_IN {roles:['Marcee Tidwell']}]->(JerryMaguire),\n",
        "(JonathanL)-[:ACTED_IN {roles:['Ray Boyd']}]->(JerryMaguire),\n",
        "(CameronC)-[:DIRECTED]->(JerryMaguire),\n",
        "(CameronC)-[:PRODUCED]->(JerryMaguire),\n",
        "(CameronC)-[:WROTE]->(JerryMaguire)\n",
        "\n",
        "CREATE (StandByMe:Movie {title:\"Stand By Me\", released:1986, tagline:\"For some, it's the last real taste of innocence, and the first real taste of life. But for everyone, it's the time that memories are made of.\"})\n",
        "CREATE (RiverP:Person {name:'River Phoenix', born:1970})\n",
        "CREATE (CoreyF:Person {name:'Corey Feldman', born:1971})\n",
        "CREATE (WilW:Person {name:'Wil Wheaton', born:1972})\n",
        "CREATE (JohnC:Person {name:'John Cusack', born:1966})\n",
        "CREATE (MarshallB:Person {name:'Marshall Bell', born:1942})\n",
        "CREATE\n",
        "(WilW)-[:ACTED_IN {roles:['Gordie Lachance']}]->(StandByMe),\n",
        "(RiverP)-[:ACTED_IN {roles:['Chris Chambers']}]->(StandByMe),\n",
        "(JerryO)-[:ACTED_IN {roles:['Vern Tessio']}]->(StandByMe),\n",
        "(CoreyF)-[:ACTED_IN {roles:['Teddy Duchamp']}]->(StandByMe),\n",
        "(JohnC)-[:ACTED_IN {roles:['Denny Lachance']}]->(StandByMe),\n",
        "(KieferS)-[:ACTED_IN {roles:['Ace Merrill']}]->(StandByMe),\n",
        "(MarshallB)-[:ACTED_IN {roles:['Mr. Lachance']}]->(StandByMe),\n",
        "(RobR)-[:DIRECTED]->(StandByMe)\n",
        "\n",
        "CREATE (AsGoodAsItGets:Movie {title:'As Good as It Gets', released:1997, tagline:'A comedy from the heart that goes for the throat.'})\n",
        "CREATE (HelenH:Person {name:'Helen Hunt', born:1963})\n",
        "CREATE (GregK:Person {name:'Greg Kinnear', born:1963})\n",
        "CREATE (JamesB:Person {name:'James L. Brooks', born:1940})\n",
        "CREATE\n",
        "(JackN)-[:ACTED_IN {roles:['Melvin Udall']}]->(AsGoodAsItGets),\n",
        "(HelenH)-[:ACTED_IN {roles:['Carol Connelly']}]->(AsGoodAsItGets),\n",
        "(GregK)-[:ACTED_IN {roles:['Simon Bishop']}]->(AsGoodAsItGets),\n",
        "(CubaG)-[:ACTED_IN {roles:['Frank Sachs']}]->(AsGoodAsItGets),\n",
        "(JamesB)-[:DIRECTED]->(AsGoodAsItGets)\n",
        "\n",
        "CREATE (WhatDreamsMayCome:Movie {title:'What Dreams May Come', released:1998, tagline:'After life there is more. The end is just the beginning.'})\n",
        "CREATE (AnnabellaS:Person {name:'Annabella Sciorra', born:1960})\n",
        "CREATE (MaxS:Person {name:'Max von Sydow', born:1929})\n",
        "CREATE (WernerH:Person {name:'Werner Herzog', born:1942})\n",
        "CREATE (Robin:Person {name:'Robin Williams', born:1951})\n",
        "CREATE (VincentW:Person {name:'Vincent Ward', born:1956})\n",
        "CREATE\n",
        "(Robin)-[:ACTED_IN {roles:['Chris Nielsen']}]->(WhatDreamsMayCome),\n",
        "(CubaG)-[:ACTED_IN {roles:['Albert Lewis']}]->(WhatDreamsMayCome),\n",
        "(AnnabellaS)-[:ACTED_IN {roles:['Annie Collins-Nielsen']}]->(WhatDreamsMayCome),\n",
        "(MaxS)-[:ACTED_IN {roles:['The Tracker']}]->(WhatDreamsMayCome),\n",
        "(WernerH)-[:ACTED_IN {roles:['The Face']}]->(WhatDreamsMayCome),\n",
        "(VincentW)-[:DIRECTED]->(WhatDreamsMayCome)\n",
        "\n",
        "CREATE (SnowFallingonCedars:Movie {title:'Snow Falling on Cedars', released:1999, tagline:'First loves last. Forever.'})\n",
        "CREATE (EthanH:Person {name:'Ethan Hawke', born:1970})\n",
        "CREATE (RickY:Person {name:'Rick Yune', born:1971})\n",
        "CREATE (JamesC:Person {name:'James Cromwell', born:1940})\n",
        "CREATE (ScottH:Person {name:'Scott Hicks', born:1953})\n",
        "CREATE\n",
        "(EthanH)-[:ACTED_IN {roles:['Ishmael Chambers']}]->(SnowFallingonCedars),\n",
        "(RickY)-[:ACTED_IN {roles:['Kazuo Miyamoto']}]->(SnowFallingonCedars),\n",
        "(MaxS)-[:ACTED_IN {roles:['Nels Gudmundsson']}]->(SnowFallingonCedars),\n",
        "(JamesC)-[:ACTED_IN {roles:['Judge Fielding']}]->(SnowFallingonCedars),\n",
        "(ScottH)-[:DIRECTED]->(SnowFallingonCedars)\n",
        "\n",
        "CREATE (YouveGotMail:Movie {title:\"You've Got Mail\", released:1998, tagline:'At odds in life... in love on-line.'})\n",
        "CREATE (ParkerP:Person {name:'Parker Posey', born:1968})\n",
        "CREATE (DaveC:Person {name:'Dave Chappelle', born:1973})\n",
        "CREATE (SteveZ:Person {name:'Steve Zahn', born:1967})\n",
        "CREATE (TomH:Person {name:'Tom Hanks', born:1956})\n",
        "CREATE (NoraE:Person {name:'Nora Ephron', born:1941})\n",
        "CREATE\n",
        "(TomH)-[:ACTED_IN {roles:['Joe Fox']}]->(YouveGotMail),\n",
        "(MegR)-[:ACTED_IN {roles:['Kathleen Kelly']}]->(YouveGotMail),\n",
        "(GregK)-[:ACTED_IN {roles:['Frank Navasky']}]->(YouveGotMail),\n",
        "(ParkerP)-[:ACTED_IN {roles:['Patricia Eden']}]->(YouveGotMail),\n",
        "(DaveC)-[:ACTED_IN {roles:['Kevin Jackson']}]->(YouveGotMail),\n",
        "(SteveZ)-[:ACTED_IN {roles:['George Pappas']}]->(YouveGotMail),\n",
        "(NoraE)-[:DIRECTED]->(YouveGotMail)\n",
        "\n",
        "CREATE (SleeplessInSeattle:Movie {title:'Sleepless in Seattle', released:1993, tagline:'What if someone you never met, someone you never saw, someone you never knew was the only someone for you?'})\n",
        "CREATE (RitaW:Person {name:'Rita Wilson', born:1956})\n",
        "CREATE (BillPull:Person {name:'Bill Pullman', born:1953})\n",
        "CREATE (VictorG:Person {name:'Victor Garber', born:1949})\n",
        "CREATE (RosieO:Person {name:\"Rosie O'Donnell\", born:1962})\n",
        "CREATE\n",
        "(TomH)-[:ACTED_IN {roles:['Sam Baldwin']}]->(SleeplessInSeattle),\n",
        "(MegR)-[:ACTED_IN {roles:['Annie Reed']}]->(SleeplessInSeattle),\n",
        "(RitaW)-[:ACTED_IN {roles:['Suzy']}]->(SleeplessInSeattle),\n",
        "(BillPull)-[:ACTED_IN {roles:['Walter']}]->(SleeplessInSeattle),\n",
        "(VictorG)-[:ACTED_IN {roles:['Greg']}]->(SleeplessInSeattle),\n",
        "(RosieO)-[:ACTED_IN {roles:['Becky']}]->(SleeplessInSeattle),\n",
        "(NoraE)-[:DIRECTED]->(SleeplessInSeattle)\n",
        "\n",
        "CREATE (JoeVersustheVolcano:Movie {title:'Joe Versus the Volcano', released:1990, tagline:'A story of love, lava and burning desire.'})\n",
        "CREATE (JohnS:Person {name:'John Patrick Stanley', born:1950})\n",
        "CREATE (Nathan:Person {name:'Nathan Lane', born:1956})\n",
        "CREATE\n",
        "(TomH)-[:ACTED_IN {roles:['Joe Banks']}]->(JoeVersustheVolcano),\n",
        "(MegR)-[:ACTED_IN {roles:['DeDe', 'Angelica Graynamore', 'Patricia Graynamore']}]->(JoeVersustheVolcano),\n",
        "(Nathan)-[:ACTED_IN {roles:['Baw']}]->(JoeVersustheVolcano),\n",
        "(JohnS)-[:DIRECTED]->(JoeVersustheVolcano)\n",
        "\n",
        "CREATE (WhenHarryMetSally:Movie {title:'When Harry Met Sally', released:1998, tagline:'Can two friends sleep together and still love each other in the morning?'})\n",
        "CREATE (BillyC:Person {name:'Billy Crystal', born:1948})\n",
        "CREATE (CarrieF:Person {name:'Carrie Fisher', born:1956})\n",
        "CREATE (BrunoK:Person {name:'Bruno Kirby', born:1949})\n",
        "CREATE\n",
        "(BillyC)-[:ACTED_IN {roles:['Harry Burns']}]->(WhenHarryMetSally),\n",
        "(MegR)-[:ACTED_IN {roles:['Sally Albright']}]->(WhenHarryMetSally),\n",
        "(CarrieF)-[:ACTED_IN {roles:['Marie']}]->(WhenHarryMetSally),\n",
        "(BrunoK)-[:ACTED_IN {roles:['Jess']}]->(WhenHarryMetSally),\n",
        "(RobR)-[:DIRECTED]->(WhenHarryMetSally),\n",
        "(RobR)-[:PRODUCED]->(WhenHarryMetSally),\n",
        "(NoraE)-[:PRODUCED]->(WhenHarryMetSally),\n",
        "(NoraE)-[:WROTE]->(WhenHarryMetSally)\n",
        "\n",
        "CREATE (ThatThingYouDo:Movie {title:'That Thing You Do', released:1996, tagline:'In every life there comes a time when that thing you dream becomes that thing you do'})\n",
        "CREATE (LivT:Person {name:'Liv Tyler', born:1977})\n",
        "CREATE\n",
        "(TomH)-[:ACTED_IN {roles:['Mr. White']}]->(ThatThingYouDo),\n",
        "(LivT)-[:ACTED_IN {roles:['Faye Dolan']}]->(ThatThingYouDo),\n",
        "(Charlize)-[:ACTED_IN {roles:['Tina']}]->(ThatThingYouDo),\n",
        "(TomH)-[:DIRECTED]->(ThatThingYouDo)\n",
        "\n",
        "CREATE (TheReplacements:Movie {title:'The Replacements', released:2000, tagline:'Pain heals, Chicks dig scars... Glory lasts forever'})\n",
        "CREATE (Brooke:Person {name:'Brooke Langton', born:1970})\n",
        "CREATE (Gene:Person {name:'Gene Hackman', born:1930})\n",
        "CREATE (Orlando:Person {name:'Orlando Jones', born:1968})\n",
        "CREATE (Howard:Person {name:'Howard Deutch', born:1950})\n",
        "CREATE\n",
        "(Keanu)-[:ACTED_IN {roles:['Shane Falco']}]->(TheReplacements),\n",
        "(Brooke)-[:ACTED_IN {roles:['Annabelle Farrell']}]->(TheReplacements),\n",
        "(Gene)-[:ACTED_IN {roles:['Jimmy McGinty']}]->(TheReplacements),\n",
        "(Orlando)-[:ACTED_IN {roles:['Clifford Franklin']}]->(TheReplacements),\n",
        "(Howard)-[:DIRECTED]->(TheReplacements)\n",
        "\n",
        "CREATE (RescueDawn:Movie {title:'RescueDawn', released:2006, tagline:\"Based on the extraordinary true story of one man's fight for freedom\"})\n",
        "CREATE (ChristianB:Person {name:'Christian Bale', born:1974})\n",
        "CREATE (ZachG:Person {name:'Zach Grenier', born:1954})\n",
        "CREATE\n",
        "(MarshallB)-[:ACTED_IN {roles:['Admiral']}]->(RescueDawn),\n",
        "(ChristianB)-[:ACTED_IN {roles:['Dieter Dengler']}]->(RescueDawn),\n",
        "(ZachG)-[:ACTED_IN {roles:['Squad Leader']}]->(RescueDawn),\n",
        "(SteveZ)-[:ACTED_IN {roles:['Duane']}]->(RescueDawn),\n",
        "(WernerH)-[:DIRECTED]->(RescueDawn)\n",
        "\n",
        "CREATE (TheBirdcage:Movie {title:'The Birdcage', released:1996, tagline:'Come as you are'})\n",
        "CREATE (MikeN:Person {name:'Mike Nichols', born:1931})\n",
        "CREATE\n",
        "(Robin)-[:ACTED_IN {roles:['Armand Goldman']}]->(TheBirdcage),\n",
        "(Nathan)-[:ACTED_IN {roles:['Albert Goldman']}]->(TheBirdcage),\n",
        "(Gene)-[:ACTED_IN {roles:['Sen. Kevin Keeley']}]->(TheBirdcage),\n",
        "(MikeN)-[:DIRECTED]->(TheBirdcage)\n",
        "\n",
        "CREATE (Unforgiven:Movie {title:'Unforgiven', released:1992, tagline:\"It's a hell of a thing, killing a man\"})\n",
        "CREATE (RichardH:Person {name:'Richard Harris', born:1930})\n",
        "CREATE (ClintE:Person {name:'Clint Eastwood', born:1930})\n",
        "CREATE\n",
        "(RichardH)-[:ACTED_IN {roles:['English Bob']}]->(Unforgiven),\n",
        "(ClintE)-[:ACTED_IN {roles:['Bill Munny']}]->(Unforgiven),\n",
        "(Gene)-[:ACTED_IN {roles:['Little Bill Daggett']}]->(Unforgiven),\n",
        "(ClintE)-[:DIRECTED]->(Unforgiven)\n",
        "\n",
        "CREATE (JohnnyMnemonic:Movie {title:'Johnny Mnemonic', released:1995, tagline:'The hottest data on earth. In the coolest head in town'})\n",
        "CREATE (Takeshi:Person {name:'Takeshi Kitano', born:1947})\n",
        "CREATE (Dina:Person {name:'Dina Meyer', born:1968})\n",
        "CREATE (IceT:Person {name:'Ice-T', born:1958})\n",
        "CREATE (RobertL:Person {name:'Robert Longo', born:1953})\n",
        "CREATE\n",
        "(Keanu)-[:ACTED_IN {roles:['Johnny Mnemonic']}]->(JohnnyMnemonic),\n",
        "(Takeshi)-[:ACTED_IN {roles:['Takahashi']}]->(JohnnyMnemonic),\n",
        "(Dina)-[:ACTED_IN {roles:['Jane']}]->(JohnnyMnemonic),\n",
        "(IceT)-[:ACTED_IN {roles:['J-Bone']}]->(JohnnyMnemonic),\n",
        "(RobertL)-[:DIRECTED]->(JohnnyMnemonic)\n",
        "\n",
        "CREATE (CloudAtlas:Movie {title:'Cloud Atlas', released:2012, tagline:'Everything is connected'})\n",
        "CREATE (HalleB:Person {name:'Halle Berry', born:1966})\n",
        "CREATE (JimB:Person {name:'Jim Broadbent', born:1949})\n",
        "CREATE (TomT:Person {name:'Tom Tykwer', born:1965})\n",
        "CREATE (DavidMitchell:Person {name:'David Mitchell', born:1969})\n",
        "CREATE (StefanArndt:Person {name:'Stefan Arndt', born:1961})\n",
        "CREATE\n",
        "(TomH)-[:ACTED_IN {roles:['Zachry', 'Dr. Henry Goose', 'Isaac Sachs', 'Dermot Hoggins']}]->(CloudAtlas),\n",
        "(Hugo)-[:ACTED_IN {roles:['Bill Smoke', 'Haskell Moore', 'Tadeusz Kesselring', 'Nurse Noakes', 'Boardman Mephi', 'Old Georgie']}]->(CloudAtlas),\n",
        "(HalleB)-[:ACTED_IN {roles:['Luisa Rey', 'Jocasta Ayrs', 'Ovid', 'Meronym']}]->(CloudAtlas),\n",
        "(JimB)-[:ACTED_IN {roles:['Vyvyan Ayrs', 'Captain Molyneux', 'Timothy Cavendish']}]->(CloudAtlas),\n",
        "(TomT)-[:DIRECTED]->(CloudAtlas),\n",
        "(LillyW)-[:DIRECTED]->(CloudAtlas),\n",
        "(LanaW)-[:DIRECTED]->(CloudAtlas),\n",
        "(DavidMitchell)-[:WROTE]->(CloudAtlas),\n",
        "(StefanArndt)-[:PRODUCED]->(CloudAtlas)\n",
        "\n",
        "CREATE (TheDaVinciCode:Movie {title:'The Da Vinci Code', released:2006, tagline:'Break The Codes'})\n",
        "CREATE (IanM:Person {name:'Ian McKellen', born:1939})\n",
        "CREATE (AudreyT:Person {name:'Audrey Tautou', born:1976})\n",
        "CREATE (PaulB:Person {name:'Paul Bettany', born:1971})\n",
        "CREATE (RonH:Person {name:'Ron Howard', born:1954})\n",
        "CREATE\n",
        "(TomH)-[:ACTED_IN {roles:['Dr. Robert Langdon']}]->(TheDaVinciCode),\n",
        "(IanM)-[:ACTED_IN {roles:['Sir Leight Teabing']}]->(TheDaVinciCode),\n",
        "(AudreyT)-[:ACTED_IN {roles:['Sophie Neveu']}]->(TheDaVinciCode),\n",
        "(PaulB)-[:ACTED_IN {roles:['Silas']}]->(TheDaVinciCode),\n",
        "(RonH)-[:DIRECTED]->(TheDaVinciCode)\n",
        "\n",
        "CREATE (VforVendetta:Movie {title:'V for Vendetta', released:2006, tagline:'Freedom! Forever!'})\n",
        "CREATE (NatalieP:Person {name:'Natalie Portman', born:1981})\n",
        "CREATE (StephenR:Person {name:'Stephen Rea', born:1946})\n",
        "CREATE (JohnH:Person {name:'John Hurt', born:1940})\n",
        "CREATE (BenM:Person {name: 'Ben Miles', born:1967})\n",
        "CREATE\n",
        "(Hugo)-[:ACTED_IN {roles:['V']}]->(VforVendetta),\n",
        "(NatalieP)-[:ACTED_IN {roles:['Evey Hammond']}]->(VforVendetta),\n",
        "(StephenR)-[:ACTED_IN {roles:['Eric Finch']}]->(VforVendetta),\n",
        "(JohnH)-[:ACTED_IN {roles:['High Chancellor Adam Sutler']}]->(VforVendetta),\n",
        "(BenM)-[:ACTED_IN {roles:['Dascomb']}]->(VforVendetta),\n",
        "(JamesM)-[:DIRECTED]->(VforVendetta),\n",
        "(LillyW)-[:PRODUCED]->(VforVendetta),\n",
        "(LanaW)-[:PRODUCED]->(VforVendetta),\n",
        "(JoelS)-[:PRODUCED]->(VforVendetta),\n",
        "(LillyW)-[:WROTE]->(VforVendetta),\n",
        "(LanaW)-[:WROTE]->(VforVendetta)\n",
        "\n",
        "CREATE (SpeedRacer:Movie {title:'Speed Racer', released:2008, tagline:'Speed has no limits'})\n",
        "CREATE (EmileH:Person {name:'Emile Hirsch', born:1985})\n",
        "CREATE (JohnG:Person {name:'John Goodman', born:1960})\n",
        "CREATE (SusanS:Person {name:'Susan Sarandon', born:1946})\n",
        "CREATE (MatthewF:Person {name:'Matthew Fox', born:1966})\n",
        "CREATE (ChristinaR:Person {name:'Christina Ricci', born:1980})\n",
        "CREATE (Rain:Person {name:'Rain', born:1982})\n",
        "CREATE\n",
        "(EmileH)-[:ACTED_IN {roles:['Speed Racer']}]->(SpeedRacer),\n",
        "(JohnG)-[:ACTED_IN {roles:['Pops']}]->(SpeedRacer),\n",
        "(SusanS)-[:ACTED_IN {roles:['Mom']}]->(SpeedRacer),\n",
        "(MatthewF)-[:ACTED_IN {roles:['Racer X']}]->(SpeedRacer),\n",
        "(ChristinaR)-[:ACTED_IN {roles:['Trixie']}]->(SpeedRacer),\n",
        "(Rain)-[:ACTED_IN {roles:['Taejo Togokahn']}]->(SpeedRacer),\n",
        "(BenM)-[:ACTED_IN {roles:['Cass Jones']}]->(SpeedRacer),\n",
        "(LillyW)-[:DIRECTED]->(SpeedRacer),\n",
        "(LanaW)-[:DIRECTED]->(SpeedRacer),\n",
        "(LillyW)-[:WROTE]->(SpeedRacer),\n",
        "(LanaW)-[:WROTE]->(SpeedRacer),\n",
        "(JoelS)-[:PRODUCED]->(SpeedRacer)\n",
        "\n",
        "CREATE (NinjaAssassin:Movie {title:'Ninja Assassin', released:2009, tagline:'Prepare to enter a secret world of assassins'})\n",
        "CREATE (NaomieH:Person {name:'Naomie Harris'})\n",
        "CREATE\n",
        "(Rain)-[:ACTED_IN {roles:['Raizo']}]->(NinjaAssassin),\n",
        "(NaomieH)-[:ACTED_IN {roles:['Mika Coretti']}]->(NinjaAssassin),\n",
        "(RickY)-[:ACTED_IN {roles:['Takeshi']}]->(NinjaAssassin),\n",
        "(BenM)-[:ACTED_IN {roles:['Ryan Maslow']}]->(NinjaAssassin),\n",
        "(JamesM)-[:DIRECTED]->(NinjaAssassin),\n",
        "(LillyW)-[:PRODUCED]->(NinjaAssassin),\n",
        "(LanaW)-[:PRODUCED]->(NinjaAssassin),\n",
        "(JoelS)-[:PRODUCED]->(NinjaAssassin)\n",
        "\n",
        "CREATE (TheGreenMile:Movie {title:'The Green Mile', released:1999, tagline:\"Walk a mile you'll never forget.\"})\n",
        "CREATE (MichaelD:Person {name:'Michael Clarke Duncan', born:1957})\n",
        "CREATE (DavidM:Person {name:'David Morse', born:1953})\n",
        "CREATE (SamR:Person {name:'Sam Rockwell', born:1968})\n",
        "CREATE (GaryS:Person {name:'Gary Sinise', born:1955})\n",
        "CREATE (PatriciaC:Person {name:'Patricia Clarkson', born:1959})\n",
        "CREATE (FrankD:Person {name:'Frank Darabont', born:1959})\n",
        "CREATE\n",
        "(TomH)-[:ACTED_IN {roles:['Paul Edgecomb']}]->(TheGreenMile),\n",
        "(MichaelD)-[:ACTED_IN {roles:['John Coffey']}]->(TheGreenMile),\n",
        "(DavidM)-[:ACTED_IN {roles:['Brutus \"Brutal\" Howell']}]->(TheGreenMile),\n",
        "(BonnieH)-[:ACTED_IN {roles:['Jan Edgecomb']}]->(TheGreenMile),\n",
        "(JamesC)-[:ACTED_IN {roles:['Warden Hal Moores']}]->(TheGreenMile),\n",
        "(SamR)-[:ACTED_IN {roles:['\"Wild Bill\" Wharton']}]->(TheGreenMile),\n",
        "(GaryS)-[:ACTED_IN {roles:['Burt Hammersmith']}]->(TheGreenMile),\n",
        "(PatriciaC)-[:ACTED_IN {roles:['Melinda Moores']}]->(TheGreenMile),\n",
        "(FrankD)-[:DIRECTED]->(TheGreenMile)\n",
        "\n",
        "CREATE (FrostNixon:Movie {title:'Frost/Nixon', released:2008, tagline:'400 million people were waiting for the truth.'})\n",
        "CREATE (FrankL:Person {name:'Frank Langella', born:1938})\n",
        "CREATE (MichaelS:Person {name:'Michael Sheen', born:1969})\n",
        "CREATE (OliverP:Person {name:'Oliver Platt', born:1960})\n",
        "CREATE\n",
        "(FrankL)-[:ACTED_IN {roles:['Richard Nixon']}]->(FrostNixon),\n",
        "(MichaelS)-[:ACTED_IN {roles:['David Frost']}]->(FrostNixon),\n",
        "(KevinB)-[:ACTED_IN {roles:['Jack Brennan']}]->(FrostNixon),\n",
        "(OliverP)-[:ACTED_IN {roles:['Bob Zelnick']}]->(FrostNixon),\n",
        "(SamR)-[:ACTED_IN {roles:['James Reston, Jr.']}]->(FrostNixon),\n",
        "(RonH)-[:DIRECTED]->(FrostNixon)\n",
        "\n",
        "CREATE (Hoffa:Movie {title:'Hoffa', released:1992, tagline:\"He didn't want law. He wanted justice.\"})\n",
        "CREATE (DannyD:Person {name:'Danny DeVito', born:1944})\n",
        "CREATE (JohnR:Person {name:'John C. Reilly', born:1965})\n",
        "CREATE\n",
        "(JackN)-[:ACTED_IN {roles:['Hoffa']}]->(Hoffa),\n",
        "(DannyD)-[:ACTED_IN {roles:['Robert \"Bobby\" Ciaro']}]->(Hoffa),\n",
        "(JTW)-[:ACTED_IN {roles:['Frank Fitzsimmons']}]->(Hoffa),\n",
        "(JohnR)-[:ACTED_IN {roles:['Peter \"Pete\" Connelly']}]->(Hoffa),\n",
        "(DannyD)-[:DIRECTED]->(Hoffa)\n",
        "\n",
        "CREATE (Apollo13:Movie {title:'Apollo 13', released:1995, tagline:'Houston, we have a problem.'})\n",
        "CREATE (EdH:Person {name:'Ed Harris', born:1950})\n",
        "CREATE (BillPax:Person {name:'Bill Paxton', born:1955})\n",
        "CREATE\n",
        "(TomH)-[:ACTED_IN {roles:['Jim Lovell']}]->(Apollo13),\n",
        "(KevinB)-[:ACTED_IN {roles:['Jack Swigert']}]->(Apollo13),\n",
        "(EdH)-[:ACTED_IN {roles:['Gene Kranz']}]->(Apollo13),\n",
        "(BillPax)-[:ACTED_IN {roles:['Fred Haise']}]->(Apollo13),\n",
        "(GaryS)-[:ACTED_IN {roles:['Ken Mattingly']}]->(Apollo13),\n",
        "(RonH)-[:DIRECTED]->(Apollo13)\n",
        "\n",
        "CREATE (Twister:Movie {title:'Twister', released:1996, tagline:\"Don't Breathe. Don't Look Back.\"})\n",
        "CREATE (PhilipH:Person {name:'Philip Seymour Hoffman', born:1967})\n",
        "CREATE (JanB:Person {name:'Jan de Bont', born:1943})\n",
        "CREATE\n",
        "(BillPax)-[:ACTED_IN {roles:['Bill Harding']}]->(Twister),\n",
        "(HelenH)-[:ACTED_IN {roles:['Dr. Jo Harding']}]->(Twister),\n",
        "(ZachG)-[:ACTED_IN {roles:['Eddie']}]->(Twister),\n",
        "(PhilipH)-[:ACTED_IN {roles:['Dustin \"Dusty\" Davis']}]->(Twister),\n",
        "(JanB)-[:DIRECTED]->(Twister)\n",
        "\n",
        "CREATE (CastAway:Movie {title:'Cast Away', released:2000, tagline:'At the edge of the world, his journey begins.'})\n",
        "CREATE (RobertZ:Person {name:'Robert Zemeckis', born:1951})\n",
        "CREATE\n",
        "(TomH)-[:ACTED_IN {roles:['Chuck Noland']}]->(CastAway),\n",
        "(HelenH)-[:ACTED_IN {roles:['Kelly Frears']}]->(CastAway),\n",
        "(RobertZ)-[:DIRECTED]->(CastAway)\n",
        "\n",
        "CREATE (OneFlewOvertheCuckoosNest:Movie {title:\"One Flew Over the Cuckoo's Nest\", released:1975, tagline:\"If he's crazy, what does that make you?\"})\n",
        "CREATE (MilosF:Person {name:'Milos Forman', born:1932})\n",
        "CREATE\n",
        "(JackN)-[:ACTED_IN {roles:['Randle McMurphy']}]->(OneFlewOvertheCuckoosNest),\n",
        "(DannyD)-[:ACTED_IN {roles:['Martini']}]->(OneFlewOvertheCuckoosNest),\n",
        "(MilosF)-[:DIRECTED]->(OneFlewOvertheCuckoosNest)\n",
        "\n",
        "CREATE (SomethingsGottaGive:Movie {title:\"Something's Gotta Give\", released:2003})\n",
        "CREATE (DianeK:Person {name:'Diane Keaton', born:1946})\n",
        "CREATE (NancyM:Person {name:'Nancy Meyers', born:1949})\n",
        "CREATE\n",
        "(JackN)-[:ACTED_IN {roles:['Harry Sanborn']}]->(SomethingsGottaGive),\n",
        "(DianeK)-[:ACTED_IN {roles:['Erica Barry']}]->(SomethingsGottaGive),\n",
        "(Keanu)-[:ACTED_IN {roles:['Julian Mercer']}]->(SomethingsGottaGive),\n",
        "(NancyM)-[:DIRECTED]->(SomethingsGottaGive),\n",
        "(NancyM)-[:PRODUCED]->(SomethingsGottaGive),\n",
        "(NancyM)-[:WROTE]->(SomethingsGottaGive)\n",
        "\n",
        "CREATE (BicentennialMan:Movie {title:'Bicentennial Man', released:1999, tagline:\"One robot's 200 year journey to become an ordinary man.\"})\n",
        "CREATE (ChrisC:Person {name:'Chris Columbus', born:1958})\n",
        "CREATE\n",
        "(Robin)-[:ACTED_IN {roles:['Andrew Marin']}]->(BicentennialMan),\n",
        "(OliverP)-[:ACTED_IN {roles:['Rupert Burns']}]->(BicentennialMan),\n",
        "(ChrisC)-[:DIRECTED]->(BicentennialMan)\n",
        "\n",
        "CREATE (CharlieWilsonsWar:Movie {title:\"Charlie Wilson's War\", released:2007, tagline:\"A stiff drink. A little mascara. A lot of nerve. Who said they couldn't bring down the Soviet empire.\"})\n",
        "CREATE (JuliaR:Person {name:'Julia Roberts', born:1967})\n",
        "CREATE\n",
        "(TomH)-[:ACTED_IN {roles:['Rep. Charlie Wilson']}]->(CharlieWilsonsWar),\n",
        "(JuliaR)-[:ACTED_IN {roles:['Joanne Herring']}]->(CharlieWilsonsWar),\n",
        "(PhilipH)-[:ACTED_IN {roles:['Gust Avrakotos']}]->(CharlieWilsonsWar),\n",
        "(MikeN)-[:DIRECTED]->(CharlieWilsonsWar)\n",
        "\n",
        "CREATE (ThePolarExpress:Movie {title:'The Polar Express', released:2004, tagline:'This Holiday Season... Believe'})\n",
        "CREATE\n",
        "(TomH)-[:ACTED_IN {roles:['Hero Boy', 'Father', 'Conductor', 'Hobo', 'Scrooge', 'Santa Claus']}]->(ThePolarExpress),\n",
        "(RobertZ)-[:DIRECTED]->(ThePolarExpress)\n",
        "\n",
        "CREATE (ALeagueofTheirOwn:Movie {title:'A League of Their Own', released:1992, tagline:'Once in a lifetime you get a chance to do something different.'})\n",
        "CREATE (Madonna:Person {name:'Madonna', born:1954})\n",
        "CREATE (GeenaD:Person {name:'Geena Davis', born:1956})\n",
        "CREATE (LoriP:Person {name:'Lori Petty', born:1963})\n",
        "CREATE (PennyM:Person {name:'Penny Marshall', born:1943})\n",
        "CREATE\n",
        "(TomH)-[:ACTED_IN {roles:['Jimmy Dugan']}]->(ALeagueofTheirOwn),\n",
        "(GeenaD)-[:ACTED_IN {roles:['Dottie Hinson']}]->(ALeagueofTheirOwn),\n",
        "(LoriP)-[:ACTED_IN {roles:['Kit Keller']}]->(ALeagueofTheirOwn),\n",
        "(RosieO)-[:ACTED_IN {roles:['Doris Murphy']}]->(ALeagueofTheirOwn),\n",
        "(Madonna)-[:ACTED_IN {roles:['\"All the Way\" Mae Mordabito']}]->(ALeagueofTheirOwn),\n",
        "(BillPax)-[:ACTED_IN {roles:['Bob Hinson']}]->(ALeagueofTheirOwn),\n",
        "(PennyM)-[:DIRECTED]->(ALeagueofTheirOwn)\n",
        "\n",
        "CREATE (PaulBlythe:Person {name:'Paul Blythe'})\n",
        "CREATE (AngelaScope:Person {name:'Angela Scope'})\n",
        "CREATE (JessicaThompson:Person {name:'Jessica Thompson'})\n",
        "CREATE (JamesThompson:Person {name:'James Thompson'})\n",
        "\n",
        "CREATE\n",
        "(JamesThompson)-[:FOLLOWS]->(JessicaThompson),\n",
        "(AngelaScope)-[:FOLLOWS]->(JessicaThompson),\n",
        "(PaulBlythe)-[:FOLLOWS]->(AngelaScope)\n",
        "\n",
        "CREATE\n",
        "(JessicaThompson)-[:REVIEWED {summary:'An amazing journey', rating:95}]->(CloudAtlas),\n",
        "(JessicaThompson)-[:REVIEWED {summary:'Silly, but fun', rating:65}]->(TheReplacements),\n",
        "(JamesThompson)-[:REVIEWED {summary:'The coolest football movie ever', rating:100}]->(TheReplacements),\n",
        "(AngelaScope)-[:REVIEWED {summary:'Pretty funny at times', rating:62}]->(TheReplacements),\n",
        "(JessicaThompson)-[:REVIEWED {summary:'Dark, but compelling', rating:85}]->(Unforgiven),\n",
        "(JessicaThompson)-[:REVIEWED {summary:\"Slapstick redeemed only by the Robin Williams and Gene Hackman's stellar performances\", rating:45}]->(TheBirdcage),\n",
        "(JessicaThompson)-[:REVIEWED {summary:'A solid romp', rating:68}]->(TheDaVinciCode),\n",
        "(JamesThompson)-[:REVIEWED {summary:'Fun, but a little far fetched', rating:65}]->(TheDaVinciCode),\n",
        "(JessicaThompson)-[:REVIEWED {summary:'You had me at Jerry', rating:92}]->(JerryMaguire)\n",
        "\n",
        "WITH TomH as a\n",
        "MATCH (a)-[:ACTED_IN]->(m)<-[:DIRECTED]-(d) RETURN a,m,d LIMIT 10;"
      ],
      "metadata": {
        "id": "QFbjo1k24YEY"
      },
      "execution_count": null,
      "outputs": []
    },
    {
      "cell_type": "markdown",
      "source": [
        "You can query the database via **cy2py** in this simple way"
      ],
      "metadata": {
        "id": "peqcEHj0b35T"
      }
    },
    {
      "cell_type": "code",
      "source": [
        "%%cypher\n",
        "CALL apoc.meta.graph()"
      ],
      "metadata": {
        "id": "BfFOTNkncMqp"
      },
      "execution_count": null,
      "outputs": []
    },
    {
      "cell_type": "markdown",
      "source": [
        "As you can see the model is exactely how we expect!"
      ],
      "metadata": {
        "id": "sGu-zpk8nY5r"
      }
    },
    {
      "cell_type": "code",
      "source": [
        "# this step is MANDATORY for the exercises\n",
        "from neo4j import GraphDatabase\n",
        "neo4j_driver = GraphDatabase.driver(neo4j_url, auth=(neo4j_user, neo4j_password))"
      ],
      "metadata": {
        "id": "_zZF1guo58cc"
      },
      "execution_count": null,
      "outputs": []
    },
    {
      "cell_type": "markdown",
      "metadata": {
        "id": "c8bQe1b-7RY-"
      },
      "source": [
        "# Read data from Neo4j into Spark\n"
      ]
    },
    {
      "cell_type": "markdown",
      "source": [
        "The query above generates the following graph model:\n",
        "\n"
      ],
      "metadata": {
        "id": "ovoUnDmocaxK"
      }
    },
    {
      "cell_type": "markdown",
      "metadata": {
        "id": "B1LLHYf1CsPh"
      },
      "source": [
        "## Read nodes via `labels` option"
      ]
    },
    {
      "cell_type": "code",
      "execution_count": null,
      "metadata": {
        "id": "omdSk6ShCqfA"
      },
      "outputs": [],
      "source": [
        "movies_df = (spark.read\n",
        "            .format('org.neo4j.spark.DataSource')\n",
        "            .option('labels', ':Movie')\n",
        "            .load())"
      ]
    },
    {
      "cell_type": "markdown",
      "metadata": {
        "id": "RyglSgXnQcar"
      },
      "source": [
        "### Schema description"
      ]
    },
    {
      "cell_type": "code",
      "execution_count": null,
      "metadata": {
        "id": "f9AaUINjPH4n"
      },
      "outputs": [],
      "source": [
        "movies_df.printSchema()"
      ]
    },
    {
      "cell_type": "markdown",
      "source": [
        "The `movies_df` contains a set of fields, the first two (generally) are always:\n",
        "\n",
        "* `<id>` which represents the internal Neo4j id\n",
        "* `<labels>` which represents the list of labels attached to the node\n",
        "\n",
        "All other properties are taken from the node via schema resolution by using APOC or Cypher queries"
      ],
      "metadata": {
        "id": "jxLcYSkgZ1xf"
      }
    },
    {
      "cell_type": "code",
      "execution_count": null,
      "metadata": {
        "id": "omGjaw5QDgS-"
      },
      "outputs": [],
      "source": [
        "movies_df"
      ]
    },
    {
      "cell_type": "markdown",
      "metadata": {
        "id": "7-KTRC5HD5sO"
      },
      "source": [
        "### Exercise\n",
        "\n",
        "Read all the `Person` nodes store them into a Python variable called `person_df` and then verify the results"
      ]
    },
    {
      "cell_type": "code",
      "execution_count": null,
      "metadata": {
        "id": "ZhnsFC9KEsLp"
      },
      "outputs": [],
      "source": [
        "person_df = # write your spark code here"
      ]
    },
    {
      "cell_type": "markdown",
      "source": [
        "<details>\n",
        "<summary>\n",
        "Show a possible solution\n",
        "</summary>\n",
        "\n",
        "```python\n",
        "person_df = (spark.read\n",
        "  .format('org.neo4j.spark.DataSource')\n",
        "  .option('labels', ':Person')\n",
        "  .load())\n",
        "```\n",
        "\n",
        "</details>\n",
        "\n"
      ],
      "metadata": {
        "id": "O4WEzidAZBh-"
      }
    },
    {
      "cell_type": "code",
      "execution_count": null,
      "metadata": {
        "id": "D5_zXyweE-QM"
      },
      "outputs": [],
      "source": [
        "\"\"\"\n",
        " This paragraph is for validating the code the you\n",
        " wrote above, please execute it after you\n",
        " created the person_df\n",
        "\"\"\"\n",
        "\n",
        "assert person_df.count() == 133\n",
        "assert person_df.schema.fieldNames() == ['<id>', '<labels>', 'name', 'born']\n",
        "assert person_df.collect()[0][\"<labels>\"] == ['Person']\n",
        "print(\"All assertion are successfuly satisfied. Congrats you created your first DataFrame\")"
      ]
    },
    {
      "cell_type": "markdown",
      "metadata": {
        "id": "m1hgGMLCRoZx"
      },
      "source": [
        "## Read relationships via `relationship` option"
      ]
    },
    {
      "cell_type": "markdown",
      "metadata": {
        "id": "HgPockV0I5Q3"
      },
      "source": [
        "There are two way to transform relationships into DataFrame\n",
        "\n",
        "* having all the node and relationship data flattened into the DataFrame\n",
        "* having all the node properties in maps and the relationship data as columns"
      ]
    },
    {
      "cell_type": "markdown",
      "metadata": {
        "id": "m0DBqZLtKtvX"
      },
      "source": [
        "### DataFrame with flattened data"
      ]
    },
    {
      "cell_type": "code",
      "execution_count": null,
      "metadata": {
        "id": "796cuMwXR2zi"
      },
      "outputs": [],
      "source": [
        "actedin_df = (spark.read\n",
        "            .format('org.neo4j.spark.DataSource')\n",
        "            .option('relationship', 'ACTED_IN')\n",
        "            .option('relationship.source.labels', ':Person')\n",
        "            .option('relationship.target.labels', ':Movie')\n",
        "            .load())"
      ]
    },
    {
      "cell_type": "markdown",
      "source": [
        "### Schema description"
      ],
      "metadata": {
        "id": "yzyviI5vXO4K"
      }
    },
    {
      "cell_type": "code",
      "execution_count": null,
      "metadata": {
        "id": "5uDWZqoySNGc"
      },
      "outputs": [],
      "source": [
        "actedin_df.printSchema()"
      ]
    },
    {
      "cell_type": "markdown",
      "source": [
        "The `movies_df` contains a set of fields, the first two (generally) are always:\n",
        "\n",
        "* `<rel.id>` which represents the internal Neo4j relationship id\n",
        "* `<rel.type>` which represents the relationship type\n",
        "* `<source/target.id>` which represents the internal Neo4j node id\n",
        "* `<source/target.labels>` which represents the list of labels attached to the node\n",
        "* `rel.*` which represents the properties attached to the relationship\n",
        "* `source/target.*` which represents the properties attached to the node\n",
        "\n",
        "All other properties are taken from the node via schema resolution by using APOC or Cypher queries"
      ],
      "metadata": {
        "id": "2dB9DL7KZxrX"
      }
    },
    {
      "cell_type": "code",
      "execution_count": null,
      "metadata": {
        "id": "VPHDTL-IUX2X"
      },
      "outputs": [],
      "source": [
        "actedin_df"
      ]
    },
    {
      "cell_type": "markdown",
      "metadata": {
        "id": "RoPVDptGKy_m"
      },
      "source": [
        "### DataFrame with nodes as map"
      ]
    },
    {
      "cell_type": "code",
      "execution_count": null,
      "metadata": {
        "id": "8VxgDlBXIt_h"
      },
      "outputs": [],
      "source": [
        "actedin_map_df = (spark.read\n",
        "            .format('org.neo4j.spark.DataSource')\n",
        "            .option('relationship.nodes.map', True)\n",
        "            .option('relationship', 'ACTED_IN')\n",
        "            .option('relationship.source.labels', ':Person')\n",
        "            .option('relationship.target.labels', ':Movie')\n",
        "            .load())"
      ]
    },
    {
      "cell_type": "markdown",
      "source": [
        "### Schema description"
      ],
      "metadata": {
        "id": "nbGAYcd7YMOp"
      }
    },
    {
      "cell_type": "code",
      "execution_count": null,
      "metadata": {
        "id": "gF5-m4BbI2Ib"
      },
      "outputs": [],
      "source": [
        "actedin_map_df.printSchema()"
      ]
    },
    {
      "cell_type": "markdown",
      "source": [
        "The `movies_df` contains a set of fields, the first two (generally) are always:\n",
        "\n",
        "* `<rel.id>` which represents the internal Neo4j relationship id\n",
        "* `<rel.type>` which represents the relationship type\n",
        "* `<source/target>` which represents a map with node values\n",
        "* `rel.*` which represents the properties attached to the relationship\n",
        "\n",
        "All other properties are taken from the node via schema resolution by using APOC or Cypher queries"
      ],
      "metadata": {
        "id": "Zuu42SpfZ502"
      }
    },
    {
      "cell_type": "code",
      "execution_count": null,
      "metadata": {
        "id": "UUYUwE3CLA_r"
      },
      "outputs": [],
      "source": [
        "actedin_map_df"
      ]
    },
    {
      "cell_type": "code",
      "source": [
        "actedin_map_df.collect()[0][\"<source>\"]"
      ],
      "metadata": {
        "id": "hHPq7neyYDSx"
      },
      "execution_count": null,
      "outputs": []
    },
    {
      "cell_type": "markdown",
      "source": [
        "### Exercise\n",
        "\n",
        "Read all the `DIRECTED` relationships"
      ],
      "metadata": {
        "id": "Viop-9_thCbF"
      }
    },
    {
      "cell_type": "code",
      "source": [
        "directed_df = # write your spark code here"
      ],
      "metadata": {
        "id": "j0tTsk59hhLh"
      },
      "execution_count": null,
      "outputs": []
    },
    {
      "cell_type": "markdown",
      "source": [
        "<details>\n",
        "<summary>\n",
        "Show a possible solution\n",
        "</summary>\n",
        "\n",
        "```python\n",
        "directed_df = (spark.read\n",
        "            .format('org.neo4j.spark.DataSource')\n",
        "            .option('relationship', 'DIRECTED')\n",
        "            .option('relationship.source.labels', ':Person')\n",
        "            .option('relationship.target.labels', ':Movie')\n",
        "            .load())\n",
        "```\n",
        "\n",
        "</details>"
      ],
      "metadata": {
        "id": "VQYyYSMpj2lf"
      }
    },
    {
      "cell_type": "code",
      "source": [
        "\"\"\"\n",
        " This paragraph is for validating the code the you\n",
        " wrote above, please execute it after you\n",
        " created the directed_df\n",
        "\"\"\"\n",
        "\n",
        "assert directed_df.count() == 44\n",
        "assert directed_df.schema.fieldNames() == ['<rel.id>',\n",
        " '<rel.type>',\n",
        " '<source.id>',\n",
        " '<source.labels>',\n",
        " 'source.name',\n",
        " 'source.born',\n",
        " '<target.id>',\n",
        " '<target.labels>',\n",
        " 'target.title',\n",
        " 'target.tagline',\n",
        " 'target.released']\n",
        "assert directed_df.collect()[0][\"<rel.type>\"] == 'DIRECTED'\n",
        "print(\"All assertion are successfuly satisfied. Congrats you created your first relationship DataFrame\")"
      ],
      "metadata": {
        "id": "HRwaJ8PvhudP"
      },
      "execution_count": null,
      "outputs": []
    },
    {
      "cell_type": "markdown",
      "source": [
        "## Read arbitrary data via Cypher query"
      ],
      "metadata": {
        "id": "hCpzW904dS2r"
      }
    },
    {
      "cell_type": "code",
      "source": [
        "cypher_df = (spark.read\n",
        "            .format('org.neo4j.spark.DataSource')\n",
        "            .option('query', '''\n",
        "              // Extend Tom Hanks co-actors, to find co-co-actors who haven't worked with Tom Hanks\n",
        "              MATCH (tom:Person {name:\"Tom Hanks\"})-[:ACTED_IN]->(m)<-[:ACTED_IN]-(coActors),\n",
        "                (coActors)-[:ACTED_IN]->(m2)<-[:ACTED_IN]-(cocoActors)\n",
        "              WHERE NOT (tom)-[:ACTED_IN]->()<-[:ACTED_IN]-(cocoActors)\n",
        "                AND tom <> cocoActors\n",
        "              RETURN cocoActors.name AS Recommended, count(*) AS Strength\n",
        "              ORDER BY Strength DESC\n",
        "            ''')\n",
        "            .load())"
      ],
      "metadata": {
        "id": "hplBy0b_dhnb"
      },
      "execution_count": null,
      "outputs": []
    },
    {
      "cell_type": "markdown",
      "source": [
        "### Schema description"
      ],
      "metadata": {
        "id": "tRZPA6xWeSCT"
      }
    },
    {
      "cell_type": "code",
      "source": [
        "cypher_df.printSchema()"
      ],
      "metadata": {
        "id": "hU-JfgNNeL5f"
      },
      "execution_count": null,
      "outputs": []
    },
    {
      "cell_type": "code",
      "source": [
        "cypher_df"
      ],
      "metadata": {
        "id": "8IcUQsileXQ7"
      },
      "execution_count": null,
      "outputs": []
    },
    {
      "cell_type": "code",
      "source": [
        "%%cypher\n",
        "// Just for debugging purposes let's check the same query directly from the database\n",
        "MATCH (tom:Person {name:\"Tom Hanks\"})-[:ACTED_IN]->(m)<-[:ACTED_IN]-(coActors),\n",
        "  (coActors)-[:ACTED_IN]->(m2)<-[:ACTED_IN]-(cocoActors)\n",
        "WHERE NOT (tom)-[:ACTED_IN]->()<-[:ACTED_IN]-(cocoActors)\n",
        "  AND tom <> cocoActors\n",
        "RETURN cocoActors.name AS Recommended, count(*) AS Strength\n",
        "ORDER BY Strength DESC\n",
        "LIMIT 20"
      ],
      "metadata": {
        "id": "CWtNAeoN4O6S"
      },
      "execution_count": null,
      "outputs": []
    },
    {
      "cell_type": "markdown",
      "source": [
        "### Exercise\n",
        "\n",
        "Return all the actors that have also directed a movie.\n",
        "\n",
        "The returned DataFrame must have 3 columns:\n",
        "\n",
        "* `name` the actor name\n",
        "* `acted_in` a list of unique films (title) where he acted in\n",
        "* `directed` a list of unique films (title) where he was a director"
      ],
      "metadata": {
        "id": "Hyq4KsKQegdE"
      }
    },
    {
      "cell_type": "code",
      "source": [
        "your_cypher_df = # write your spark code here"
      ],
      "metadata": {
        "id": "0h1FFuYxej2f"
      },
      "execution_count": null,
      "outputs": []
    },
    {
      "cell_type": "markdown",
      "source": [
        "<details>\n",
        "<summary>\n",
        "Show a possible solution\n",
        "</summary>\n",
        "\n",
        "```python\n",
        "your_cypher_df = (spark.read\n",
        "            .format('org.neo4j.spark.DataSource')\n",
        "            .option('query', '''\n",
        "              MATCH (p:Person)\n",
        "              MATCH (p)-[:ACTED_IN]->(m:Movie)\n",
        "              MATCH (p)-[:DIRECTED]->(m1:Movie)\n",
        "              RETURN p.name AS name, collect(m.title) AS acted_in, collect(m1.title) AS directed\n",
        "            ''')\n",
        "            .load())\n",
        "```\n",
        "\n",
        "</details>"
      ],
      "metadata": {
        "id": "CQncCY52lCxv"
      }
    },
    {
      "cell_type": "code",
      "source": [
        "\"\"\"\n",
        " This paragraph is for validating the code the you\n",
        " wrote above, please execute it after you\n",
        " created the your_cypher_df\n",
        "\"\"\"\n",
        "\n",
        "assert your_cypher_df.count() == 5\n",
        "assert your_cypher_df.schema.fieldNames() == ['name', 'acted_in', 'directed']\n",
        "your_cypher_df_collect = your_cypher_df.collect()\n",
        "assert frozenset(map(lambda row: row['name'], your_cypher_df_collect)) == frozenset(['Clint Eastwood',\n",
        " 'Danny DeVito',\n",
        " 'James Marshall',\n",
        " 'Werner Herzog',\n",
        " 'Tom Hanks'])\n",
        "assert frozenset(map(lambda row: frozenset(row['acted_in']), your_cypher_df_collect)) == set([\n",
        "      frozenset([\"Apollo 13\", \"You've Got Mail\", \"A League of Their Own\", \"Joe Versus the Volcano\", \"That Thing You Do\", \"The Da Vinci Code\", \"Cloud Atlas\", \"Cast Away\", \"The Green Mile\", \"Sleepless in Seattle\", \"The Polar Express\", \"Charlie Wilson's War\"]),\n",
        "      frozenset([\"What Dreams May Come\"]),\n",
        "      frozenset([\"Unforgiven\"]),\n",
        "      frozenset([\"A Few Good Men\"]),\n",
        "      frozenset([\"Hoffa\", \"One Flew Over the Cuckoo's Nest\"])\n",
        "    ])\n",
        "assert frozenset(map(lambda row: frozenset(row['directed']), your_cypher_df_collect)) == set([\n",
        "      frozenset([\"That Thing You Do\"]),\n",
        "      frozenset([\"RescueDawn\"]),\n",
        "      frozenset([\"Unforgiven\"]),\n",
        "      frozenset([\"V for Vendetta\", \"Ninja Assassin\"]),\n",
        "      frozenset([\"Hoffa\"])\n",
        "    ])\n",
        "print(\"All assertion are successfuly satisfied. Congrats you created your first cypher dataframe\")"
      ],
      "metadata": {
        "id": "xG_7Wy-_go5V"
      },
      "execution_count": null,
      "outputs": []
    },
    {
      "cell_type": "markdown",
      "metadata": {
        "id": "hFpA11aK8ADf"
      },
      "source": [
        "# Write data from Spark to Neo4j"
      ]
    },
    {
      "cell_type": "markdown",
      "source": [
        "## The graph model\n",
        "\n",
        "Our goal is to create this simple graph model\n",
        "\n",
        "<img src=\"https://dist.neo4j.com/wp-content/uploads/developer-desktop-csv-import-data_model.svg\" >"
      ],
      "metadata": {
        "id": "Mx84Qi1PcHF_"
      }
    },
    {
      "cell_type": "markdown",
      "metadata": {
        "id": "Trt-L_9pMQf1"
      },
      "source": [
        "### Download The Dataset"
      ]
    },
    {
      "cell_type": "code",
      "execution_count": null,
      "metadata": {
        "id": "h4o07NpuJmaG"
      },
      "outputs": [],
      "source": [
        "!wget -q https://s3.amazonaws.com/dev.assets.neo4j.com/wp-content/uploads/desktop-csv-import.zip"
      ]
    },
    {
      "cell_type": "markdown",
      "source": [
        "The zip is composed of three files:\n",
        "* products.csv: describes the products and has three columns (and no header)\n",
        "* orders.csv: has three columns (with the header) and describe the order\n",
        "* order-details.csv: is the \"join\" table between orders and products; it has three columns with header"
      ],
      "metadata": {
        "id": "KKfl_ZyhYYWj"
      }
    },
    {
      "cell_type": "code",
      "execution_count": null,
      "metadata": {
        "id": "nduIG7H_J0-A"
      },
      "outputs": [],
      "source": [
        "!unzip desktop-csv-import.zip"
      ]
    },
    {
      "cell_type": "markdown",
      "metadata": {
        "id": "w5kaTPoEQNkT"
      },
      "source": [
        "### Explore the Dataset"
      ]
    },
    {
      "cell_type": "code",
      "execution_count": null,
      "metadata": {
        "id": "L0TZgi_E1gAv"
      },
      "outputs": [],
      "source": [
        "products_df = (spark.read\n",
        "      .format('csv')\n",
        "      .option('inferSchema', True)\n",
        "      .option('path', '/content/desktop-csv-import/products.csv')\n",
        "      .load())"
      ]
    },
    {
      "cell_type": "code",
      "execution_count": null,
      "metadata": {
        "id": "0tptDEUn2WO6"
      },
      "outputs": [],
      "source": [
        "products_df.printSchema()"
      ]
    },
    {
      "cell_type": "code",
      "execution_count": null,
      "metadata": {
        "id": "ZSW40PxjKvgf"
      },
      "outputs": [],
      "source": [
        "products_df"
      ]
    },
    {
      "cell_type": "markdown",
      "source": [
        "As you can see in the schema, colums have no name, just a generic `_c` prefix concatenated with an index.\n",
        "The three columns describe:\n",
        "* `_c0` is the `id` of the product\n",
        "* `_c1` is the `name`\n",
        "* `_c2` is the `price`\n",
        "\n",
        "Let's rename these columns!"
      ],
      "metadata": {
        "id": "VrKERh4uXu8J"
      }
    },
    {
      "cell_type": "code",
      "execution_count": null,
      "metadata": {
        "id": "7xabRYlXQZl4"
      },
      "outputs": [],
      "source": [
        "products_df = (products_df.withColumnRenamed('_c0', 'id')\n",
        "      .withColumnRenamed('_c1', 'name')\n",
        "      .withColumnRenamed('_c2', 'price'))"
      ]
    },
    {
      "cell_type": "code",
      "execution_count": null,
      "metadata": {
        "id": "w08HTcIeQuNn"
      },
      "outputs": [],
      "source": [
        "products_df.printSchema()"
      ]
    },
    {
      "cell_type": "code",
      "execution_count": null,
      "metadata": {
        "id": "XCkyYIyzQv0X"
      },
      "outputs": [],
      "source": [
        "products_df"
      ]
    },
    {
      "cell_type": "markdown",
      "source": [
        "## Write nodes via `label` option"
      ],
      "metadata": {
        "id": "XL9oBe0-m680"
      }
    },
    {
      "cell_type": "code",
      "execution_count": null,
      "metadata": {
        "id": "Oy4eoeAMRWxc"
      },
      "outputs": [],
      "source": [
        "(products_df.write\n",
        " .format('org.neo4j.spark.DataSource')\n",
        " .mode('append')\n",
        " .option('labels', ':Product')\n",
        " .save())"
      ]
    },
    {
      "cell_type": "markdown",
      "source": [
        "Let's check if the nodes are in the database!"
      ],
      "metadata": {
        "id": "MLxewMeFsQj3"
      }
    },
    {
      "cell_type": "code",
      "source": [
        "%%cypher\n",
        "MATCH (n:Product)\n",
        "RETURN n\n",
        "LIMIT 10"
      ],
      "metadata": {
        "id": "2yoBPvmmsUqt"
      },
      "execution_count": null,
      "outputs": []
    },
    {
      "cell_type": "markdown",
      "source": [
        "Now just to be sure that we loaded all the nodes into Neo4j we'll count the dataframe and the nodes inside the database"
      ],
      "metadata": {
        "id": "10PLvdmZ0tZT"
      }
    },
    {
      "cell_type": "code",
      "source": [
        "products_df.count()"
      ],
      "metadata": {
        "id": "AmwadsK702Sl"
      },
      "execution_count": null,
      "outputs": []
    },
    {
      "cell_type": "code",
      "source": [
        "%%cypher\n",
        "MATCH (n:Product)\n",
        "RETURN count(n)"
      ],
      "metadata": {
        "id": "J8e9jZPG06DL"
      },
      "execution_count": null,
      "outputs": []
    },
    {
      "cell_type": "markdown",
      "source": [
        "If the two counts are equal, all the data has been properly imported."
      ],
      "metadata": {
        "id": "T8XAaw3K1Mga"
      }
    },
    {
      "cell_type": "markdown",
      "source": [
        "### Create Constraints\n",
        "\n",
        "Oh but wait, we forgot to create constraints!!! if we go into the Neo4j browser and excute the following query:\n",
        "\n",
        "```cypher\n",
        "show constraints\n",
        "```\n",
        "\n",
        "We should get the constraints of the movie database, but not one for `Product`.\n",
        "\n",
        "So please create the constaints for the node `Product`:\n",
        "\n",
        "```cypher\n",
        "CREATE CONSTRAINT product_id FOR (p:Product) REQUIRE p.id IS UNIQUE;\n",
        "```\n",
        "\n",
        "But if you want, you can also delegate the Spark connector to perform optimizations pre-processing by usign the option `schema.optimization.type` which can assume three values:\n",
        "\n",
        "* `INDEX`: it creates only indexes on provided nodes.\n",
        "* `NODE_CONSTRAINTS`: it creates only indexes on provided nodes.\n",
        "\n",
        "So let's create the `Order` node with by let the connector creating the constraints for you"
      ],
      "metadata": {
        "id": "jFL_tQk0tsni"
      }
    },
    {
      "cell_type": "code",
      "source": [
        "%%cypher\n",
        "// Check the constraints\n",
        "SHOW CONSTRAINTS"
      ],
      "metadata": {
        "id": "T3PUsfIvsi23"
      },
      "execution_count": null,
      "outputs": []
    },
    {
      "cell_type": "code",
      "source": [
        "%%cypher\n",
        "// Create the constraint for Product node\n",
        "CREATE CONSTRAINT product_id IF NOT EXISTS FOR (p:Product) REQUIRE p.id IS UNIQUE;"
      ],
      "metadata": {
        "id": "iMF68OU20XhE"
      },
      "execution_count": null,
      "outputs": []
    },
    {
      "cell_type": "code",
      "source": [
        "%%cypher\n",
        "// Check (again) the constraints\n",
        "SHOW CONSTRAINTS"
      ],
      "metadata": {
        "id": "w_wSMYvz0fz_"
      },
      "execution_count": null,
      "outputs": []
    },
    {
      "cell_type": "markdown",
      "source": [
        "As you can see now we have the `product_id` constraint in the result list"
      ],
      "metadata": {
        "id": "2JwYLMva1VnN"
      }
    },
    {
      "cell_type": "code",
      "source": [
        "orders_df = (spark.read\n",
        "      .format('csv')\n",
        "      .option('inferSchema', True)\n",
        "      .option('header', True)\n",
        "      .option('path', '/content/desktop-csv-import/orders.csv')\n",
        "      .load())"
      ],
      "metadata": {
        "id": "m5ge2R_Ggd3K"
      },
      "execution_count": null,
      "outputs": []
    },
    {
      "cell_type": "code",
      "source": [
        "orders_df.printSchema()"
      ],
      "metadata": {
        "id": "7UGwHtuJwFU4"
      },
      "execution_count": null,
      "outputs": []
    },
    {
      "cell_type": "code",
      "source": [
        "orders_df"
      ],
      "metadata": {
        "id": "uGmUP5ZMwJkm"
      },
      "execution_count": null,
      "outputs": []
    },
    {
      "cell_type": "code",
      "source": [
        "# we cast orderDate to timestamp in order to have it converted properly into Neo4j\n",
        "orders_df = orders_df.selectExpr('orderID AS id', 'CAST(orderDate AS TIMESTAMP) AS date', 'shipCountry')"
      ],
      "metadata": {
        "id": "InwYglcUwXNy"
      },
      "execution_count": null,
      "outputs": []
    },
    {
      "cell_type": "code",
      "source": [
        "orders_df.printSchema()"
      ],
      "metadata": {
        "id": "kSJmW81cw_ES"
      },
      "execution_count": null,
      "outputs": []
    },
    {
      "cell_type": "code",
      "source": [
        "orders_df"
      ],
      "metadata": {
        "id": "7VN5RAizxSr2"
      },
      "execution_count": null,
      "outputs": []
    },
    {
      "cell_type": "code",
      "source": [
        "(orders_df.write\n",
        " .format('org.neo4j.spark.DataSource')\n",
        " .mode('overwrite')\n",
        " .option('labels', ':Order')\n",
        " .option('schema.optimization.type', 'NODE_CONSTRAINTS')\n",
        " # this is necessary in order to specify what is the constraint field\n",
        " .option('node.keys', 'id')\n",
        " .save())"
      ],
      "metadata": {
        "id": "0rwKB9V-xTzu"
      },
      "execution_count": null,
      "outputs": []
    },
    {
      "cell_type": "markdown",
      "source": [
        "Now let's check if the connector has created the constraint for us"
      ],
      "metadata": {
        "id": "A_T2beEJx3Ho"
      }
    },
    {
      "cell_type": "code",
      "source": [
        "%%cypher\n",
        "SHOW CONSTRAINTS"
      ],
      "metadata": {
        "id": "hDxdKyFY1sDT"
      },
      "execution_count": null,
      "outputs": []
    },
    {
      "cell_type": "markdown",
      "source": [
        "As you can see the we have the constraint `spark_NODE_CONSTRAINTS_Order_id` that has been create by the Spark connector itself.\n",
        "\n",
        "Now just because we're courious let's check if the data has been propertly loaded.\n",
        "\n",
        "The first thing to check is if the count of the Dataframe and the nodes in Neo4j matches."
      ],
      "metadata": {
        "id": "H5Bne-Mq1vsO"
      }
    },
    {
      "cell_type": "code",
      "source": [
        "orders_df.count()"
      ],
      "metadata": {
        "id": "mANrH-Zt2ShO"
      },
      "execution_count": null,
      "outputs": []
    },
    {
      "cell_type": "code",
      "source": [
        "%%cypher\n",
        "MATCH (o:Order)\n",
        "RETURN count(o)"
      ],
      "metadata": {
        "id": "vzCCVYAK2V0X"
      },
      "execution_count": null,
      "outputs": []
    },
    {
      "cell_type": "markdown",
      "source": [
        "Now we want to check if the data has been loaded with the proper data type, in particular we created a new column `date` by casting `orderDate` to `TIMESTAMP`."
      ],
      "metadata": {
        "id": "X8BBxCQg2dFM"
      }
    },
    {
      "cell_type": "code",
      "source": [
        "%%cypher\n",
        "MATCH (o:Order)\n",
        "RETURN apoc.meta.cypher.type(o.date), count(o)"
      ],
      "metadata": {
        "id": "VN7XMI192xAP"
      },
      "execution_count": null,
      "outputs": []
    },
    {
      "cell_type": "markdown",
      "source": [
        "So all the `date` values have the same type."
      ],
      "metadata": {
        "id": "PpXyKtJF3Lk4"
      }
    },
    {
      "cell_type": "markdown",
      "source": [
        "### Exercise\n",
        "\n",
        "Given the `football_teams_df` and `football_player_df` below please:\n",
        "* for `football_teams_df` insert it as nodes with label `:FootballTeam` in Neo4j.\n",
        "* for `football_player_df` insert it as nodes with label `:FootballPlayer` in Neo4j.\n",
        "\n",
        "Create for both of them constraints via the schema optimization feature:\n",
        "* for `football_teams_df` the key must be the property `id`\n",
        "* for `football_player_df` the key must be the property `name`"
      ],
      "metadata": {
        "id": "Zi4Dl2LqmVmN"
      }
    },
    {
      "cell_type": "code",
      "source": [
        "football_teams_df = spark.createDataFrame([{'id': 1, 'name': 'AC Milan'}, {'id': 2, 'name': 'FC Internazionale'}])\n",
        "football_player_df = spark.createDataFrame([\n",
        "  {'name': 'Zlatan Ibrahimovic'},\n",
        "  {'name': 'Sandro Tonali'},\n",
        "  {'name': 'Nicolò Barella'},\n",
        "  {'name': 'Marcelo Brozovic'}])"
      ],
      "metadata": {
        "id": "21tFDtgAmVON"
      },
      "execution_count": null,
      "outputs": []
    },
    {
      "cell_type": "code",
      "source": [
        "# write your spark code that persist football_teams_df and football_player_df here"
      ],
      "metadata": {
        "id": "utpvz-fI6blD"
      },
      "execution_count": null,
      "outputs": []
    },
    {
      "cell_type": "markdown",
      "source": [
        "<details>\n",
        "<summary>\n",
        "Show a possible solution\n",
        "</summary>\n",
        "\n",
        "```python\n",
        "# write the teams\n",
        "(football_teams_df.write\n",
        " .format('org.neo4j.spark.DataSource')\n",
        " .mode('overwrite')\n",
        " .option('labels', ':FootballTeam')\n",
        " .option('schema.optimization.type', 'NODE_CONSTRAINTS')\n",
        " .option('node.keys', 'id')\n",
        " .save())\n",
        "# write the players\n",
        "(football_player_df.write\n",
        " .format('org.neo4j.spark.DataSource')\n",
        " .mode('overwrite')\n",
        " .option('labels', ':FootballPlayer')\n",
        " .option('schema.optimization.type', 'NODE_CONSTRAINTS')\n",
        " .option('node.keys', 'name')\n",
        " .save())\n",
        "```\n",
        "\n",
        "</details>"
      ],
      "metadata": {
        "id": "xeVxPe7PmEy8"
      }
    },
    {
      "cell_type": "code",
      "source": [
        "\"\"\"\n",
        " This paragraph is for validating the code the you\n",
        " wrote above, please execute it after you\n",
        " persisted football_teams_df and\n",
        " football_player_df in Neo4j as nodes\n",
        "\"\"\"\n",
        "\n",
        "with neo4j_driver.session() as session:\n",
        "  # count football players\n",
        "  football_players = session.read_transaction(lambda tx: (tx.run('''\n",
        "      MATCH (p:FootballPlayer)\n",
        "      WHERE p.name IN ['Zlatan Ibrahimovic', 'Sandro Tonali',\n",
        "        'Nicolò Barella', 'Marcelo Brozovic']\n",
        "      RETURN count(p) AS count\n",
        "    ''').single()['count']))\n",
        "  assert football_players == 4\n",
        "\n",
        "  # count football teams\n",
        "  football_teams = session.read_transaction(lambda tx: (tx.run('''\n",
        "      MATCH (p:FootballTeam)\n",
        "      WHERE p.name IN ['AC Milan', 'FC Internazionale']\n",
        "      RETURN count(p) AS count\n",
        "    ''').single()['count']))\n",
        "  assert football_teams == 2\n",
        "\n",
        "  # count constraints\n",
        "  football_constraints = session.read_transaction(lambda tx: (tx.run('''\n",
        "      SHOW CONSTRAINTS YIELD name\n",
        "      WHERE name IN ['spark_NODE_CONSTRAINTS_FootballPlayer_name', 'spark_NODE_CONSTRAINTS_FootballTeam_id']\n",
        "      RETURN count(*) AS count\n",
        "    ''').single()['count']))\n",
        "  assert football_constraints == 2\n",
        "\n",
        "print(\"All assertion are successfuly satisfied. Congrats you saved your first Node DataFrame into Neo4j!\")"
      ],
      "metadata": {
        "id": "a5zQCEyK6h5f"
      },
      "execution_count": null,
      "outputs": []
    },
    {
      "cell_type": "markdown",
      "source": [
        "## Write relationships via `relationship` option"
      ],
      "metadata": {
        "id": "QltYkhIuy2Kc"
      }
    },
    {
      "cell_type": "code",
      "source": [
        "order_details_df = (spark.read\n",
        "      .format('csv')\n",
        "      .option('inferSchema', True)\n",
        "      .option('header', True)\n",
        "      .option('path', '/content/desktop-csv-import/order-details.csv')\n",
        "      .load())"
      ],
      "metadata": {
        "id": "y3U_X0b7x2UN"
      },
      "execution_count": null,
      "outputs": []
    },
    {
      "cell_type": "code",
      "source": [
        "order_details_df.printSchema()"
      ],
      "metadata": {
        "id": "zFqKW-j-zRyk"
      },
      "execution_count": null,
      "outputs": []
    },
    {
      "cell_type": "code",
      "source": [
        "order_details_df"
      ],
      "metadata": {
        "id": "5s5f3W984Jc0"
      },
      "execution_count": null,
      "outputs": []
    },
    {
      "cell_type": "markdown",
      "source": [
        "Please remember that this is the pattern that we want to ingest:\n",
        "\n",
        "\n",
        "<img src=\"https://dist.neo4j.com/wp-content/uploads/developer-desktop-csv-import-data_model.svg\" >"
      ],
      "metadata": {
        "id": "aZWSOtNK2qEw"
      }
    },
    {
      "cell_type": "code",
      "source": [
        "(order_details_df.write\n",
        " .format('org.neo4j.spark.DataSource')\n",
        " .mode('overwrite')\n",
        " .option('relationship', 'CONTAINS')\n",
        " .option('relationship.save.strategy', 'keys')\n",
        " .option('relationship.source.labels', ':Product')\n",
        " .option('relationship.source.save.mode', 'Match')\n",
        " .option('relationship.source.node.keys', 'productID:id')\n",
        " .option('relationship.target.labels', ':Order')\n",
        " .option('relationship.target.save.mode', 'Match')\n",
        " .option('relationship.target.node.keys', 'orderID:id')\n",
        " .option('relationship.properties', 'quantity:quantityOrdered')\n",
        " .save())"
      ],
      "metadata": {
        "id": "rFo3KWA90rmZ"
      },
      "execution_count": null,
      "outputs": []
    },
    {
      "cell_type": "markdown",
      "source": [
        "Now let's check the count for both Dataframe and relationships in Neo4j"
      ],
      "metadata": {
        "id": "1PaC36iZ3bNf"
      }
    },
    {
      "cell_type": "code",
      "source": [
        "order_details_df.count()"
      ],
      "metadata": {
        "id": "OUZ5FYHP3qvj"
      },
      "execution_count": null,
      "outputs": []
    },
    {
      "cell_type": "code",
      "source": [
        "%%cypher\n",
        "MATCH (p:Product)-[r:CONTAINS]->(o:Order)\n",
        "RETURN count(r)"
      ],
      "metadata": {
        "id": "ex8o2pSo34cI"
      },
      "execution_count": null,
      "outputs": []
    },
    {
      "cell_type": "markdown",
      "source": [
        "### Exercise\n",
        "\n",
        "Given the `team_player_df` create a relationship between `:FootballPlayer` and `:FootballTeam` of type `PLAYS_FOR`:\n",
        "\n",
        "```cypher\n",
        "(:FootballPlayer)-[:PLAYS_FOR]->(:FootballTeam)\n",
        "```"
      ],
      "metadata": {
        "id": "lTBo369687lC"
      }
    },
    {
      "cell_type": "code",
      "source": [
        "team_player_df = spark.createDataFrame([\n",
        "  {'id': 1, 'football_player': 'Zlatan Ibrahimovic'},\n",
        "  {'id': 1, 'football_player': 'Sandro Tonali'},\n",
        "  {'id': 2, 'football_player': 'Nicolò Barella'},\n",
        "  {'id': 2, 'football_player': 'Marcelo Brozovic'}])"
      ],
      "metadata": {
        "id": "gi9kB0l49f8H"
      },
      "execution_count": null,
      "outputs": []
    },
    {
      "cell_type": "code",
      "source": [
        "# write your spark code that persist team_player_df here"
      ],
      "metadata": {
        "id": "i7ZjASDx_Kiy"
      },
      "execution_count": null,
      "outputs": []
    },
    {
      "cell_type": "markdown",
      "source": [
        "<details>\n",
        "<summary>\n",
        "Show a possible solution\n",
        "</summary>\n",
        "\n",
        "```python\n",
        "(team_player_df.write\n",
        " .format('org.neo4j.spark.DataSource')\n",
        " .mode('overwrite')\n",
        " .option('relationship', 'PLAYS_FOR')\n",
        " .option('relationship.save.strategy', 'keys')\n",
        " .option('relationship.source.labels', ':FootballPlayer')\n",
        " .option('relationship.source.save.mode', 'Match')\n",
        " .option('relationship.source.node.keys', 'football_player:name')\n",
        " .option('relationship.target.labels', ':FootballTeam')\n",
        " .option('relationship.target.save.mode', 'Match')\n",
        " .option('relationship.target.node.keys', 'id')\n",
        " .save())\n",
        "```\n",
        "\n",
        "</details>"
      ],
      "metadata": {
        "id": "oNRJevUSm0Wi"
      }
    },
    {
      "cell_type": "code",
      "source": [
        "\"\"\"\n",
        " This paragraph is for validating the code the you\n",
        " wrote above, please execute it after you\n",
        " persisted team_player_df as relationships\n",
        "\"\"\"\n",
        "\n",
        "with neo4j_driver.session() as session:\n",
        "  # count relationships\n",
        "  def count_relationships(tx):\n",
        "    result = tx.run('''\n",
        "      MATCH (p:FootballPlayer)-[:PLAYS_FOR]->(t:FootballTeam)\n",
        "      RETURN t.name AS team, collect(p.name) AS players\n",
        "      ORDER by team\n",
        "    ''')\n",
        "    return [{'team': record['team'], 'players': set(record['players'])} for record in result]\n",
        "\n",
        "  actual = session.read_transaction(count_relationships)\n",
        "  expected = [\n",
        "    {'team': 'AC Milan', 'players': frozenset(['Zlatan Ibrahimovic', 'Sandro Tonali'])},\n",
        "    {'team': 'FC Internazionale', 'players': frozenset(['Nicolò Barella', 'Marcelo Brozovic'])}\n",
        "  ]\n",
        "  assert actual == expected\n",
        "\n",
        "print(\"All assertion are successfuly satisfied. Congrats you saved your first Relationship DataFrame into Neo4j!\")"
      ],
      "metadata": {
        "id": "LDYbmoUx_Owb"
      },
      "execution_count": null,
      "outputs": []
    },
    {
      "cell_type": "markdown",
      "source": [
        "## Write custom graphs via Cypher Query\n",
        "\n",
        "Now let's consider that two actors created an order and bought several products, and we want to add information in our database."
      ],
      "metadata": {
        "id": "vBq9NCWlZkHw"
      }
    },
    {
      "cell_type": "code",
      "source": [
        "actor_orders = [\n",
        "  {'actor_name': 'Cuba Gooding Jr.', 'order_id': 1, 'products': [11, 42, 72], 'quantities': [1, 2, 3], 'order_date': '2022-06-07 00:00:00'},\n",
        "  {'actor_name': 'Tom Hanks', 'order_id': 2, 'products': [24, 55, 75], 'quantities': [3, 2, 1], 'order_date': '2022-06-06 00:00:00'}\n",
        "]\n",
        "\n",
        "actor_orders_df = spark.createDataFrame(actor_orders)"
      ],
      "metadata": {
        "id": "3y_yEOouaHxe"
      },
      "execution_count": null,
      "outputs": []
    },
    {
      "cell_type": "code",
      "source": [
        "actor_orders_df.printSchema()"
      ],
      "metadata": {
        "id": "hYo7nlgvbfdm"
      },
      "execution_count": null,
      "outputs": []
    },
    {
      "cell_type": "code",
      "source": [
        "actor_orders_df"
      ],
      "metadata": {
        "id": "fOkW4w2lbhZP"
      },
      "execution_count": null,
      "outputs": []
    },
    {
      "cell_type": "markdown",
      "source": [
        "In this case please go into Neo4j and create the following constraint:\n",
        "\n",
        "```cypher\n",
        "CREATE CONSTRAINT person_name FOR (p:Person) REQUIRE p.name is UNIQUE;\n",
        "```"
      ],
      "metadata": {
        "id": "q0wAIB5l7qp9"
      }
    },
    {
      "cell_type": "code",
      "source": [
        "%%cypher\n",
        "// if you didn't before create the constraint on Person.name\n",
        "CREATE CONSTRAINT person_name IF NOT EXISTS FOR (p:Person) REQUIRE p.name is UNIQUE;"
      ],
      "metadata": {
        "id": "-_Lxm_zV4qw2"
      },
      "execution_count": null,
      "outputs": []
    },
    {
      "cell_type": "code",
      "source": [
        "(actor_orders_df.write\n",
        " .format('org.neo4j.spark.DataSource')\n",
        " .mode('overwrite')\n",
        " .option('query', '''\n",
        "  MATCH (person:Person {name: event.actor_name})\n",
        "  MERGE (order:Order {id: event.order_id, date: datetime(replace(event.order_date, ' ', 'T'))})\n",
        "  MERGE (person)-[:CREATED]->(order)\n",
        "  WITH event, order\n",
        "  UNWIND range(0, size(event.products) - 1) AS index\n",
        "  MATCH (product:Product {id: event.products[index]})\n",
        "  MERGE (product)-[:CONTAINS{quantityOrdered: event.quantities[index]}]->(order)\n",
        " ''')\n",
        " .save())"
      ],
      "metadata": {
        "id": "cm3RQyLbbjue"
      },
      "execution_count": null,
      "outputs": []
    },
    {
      "cell_type": "markdown",
      "source": [
        "What we expect now is that for the two actors there are two orders one per each, then each order contains three products."
      ],
      "metadata": {
        "id": "61LUSN4F6pQq"
      }
    },
    {
      "cell_type": "code",
      "source": [
        "%%cypher\n",
        "MATCH (a:Person)-[:CREATED]->(o:Order)<-[c:CONTAINS]-(p:Product)\n",
        "WHERE a.name IN ['Cuba Gooding Jr.', 'Tom Hanks']\n",
        "RETURN a.name, o.id, o.date, p.name, c.quantityOrdered"
      ],
      "metadata": {
        "id": "8fVMQiTf61mN"
      },
      "execution_count": null,
      "outputs": []
    },
    {
      "cell_type": "markdown",
      "source": [
        "### Exercise\n",
        "\n",
        "Given `neo4j_resources_df` build a small Knowledge Graph in Neo4j with the following structure:\n",
        "\n",
        "```cypher\n",
        "(:Author{name})-[:CREATED]->(:Resource{name})-[:HAS_TAG]->(:Tag{name})\n",
        "```"
      ],
      "metadata": {
        "id": "pn7IM8me9R3I"
      }
    },
    {
      "cell_type": "code",
      "source": [
        "neo4j_resources_df = spark.createDataFrame([\n",
        "    {'author': 'LARUS Business Automation', 'resource': 'Galileo.XAI', 'tags': ['Graph Machine Learning', 'Neo4j', 'Explainable AI', 'Artificial Intelligence']},\n",
        "    {'author': 'Neo4j', 'resource': 'Graph Data Science Library', 'tags': ['Graph Machine Learning', 'Algorithms']},\n",
        "    {'author': 'Michael Hunger', 'resource': 'APOC', 'tags': ['Graph Data Integration', 'Graph Algorithms']}\n",
        "])"
      ],
      "metadata": {
        "id": "_wmoLl8d9RVz"
      },
      "execution_count": null,
      "outputs": []
    },
    {
      "cell_type": "code",
      "source": [
        "neo4j_resources_df"
      ],
      "metadata": {
        "id": "NkG1jCynLXgJ"
      },
      "execution_count": null,
      "outputs": []
    },
    {
      "cell_type": "code",
      "source": [
        "# write your spark code that persist neo4j_resources_df here"
      ],
      "metadata": {
        "id": "8EQmY-qhsbi1"
      },
      "execution_count": null,
      "outputs": []
    },
    {
      "cell_type": "markdown",
      "source": [
        "<details>\n",
        "<summary>\n",
        "Show a possible solution\n",
        "</summary>\n",
        "\n",
        "```python\n",
        "(neo4j_resources_df.write\n",
        " .format('org.neo4j.spark.DataSource')\n",
        " .mode('overwrite')\n",
        " .option('query', '''\n",
        "    MERGE (a:Author {name: event.author})\n",
        "    MERGE (r:Resource {name: event.resource})\n",
        "    MERGE (a)-[:CREATED]->(r)\n",
        "    WITH a, r, event\n",
        "    UNWIND event.tags AS tag\n",
        "    MERGE (t:Tag{name: tag})\n",
        "    MERGE (r)-[:HAS_TAG]->(t)\n",
        " ''')\n",
        " .save())\n",
        "```\n",
        "\n",
        "</details>"
      ],
      "metadata": {
        "id": "KCfw_saanywo"
      }
    },
    {
      "cell_type": "code",
      "source": [
        "\"\"\"\n",
        " This paragraph is for validating the code the you\n",
        " wrote above, please execute it after you\n",
        " persisted neo4j_resources_df as Cypher query\n",
        "\"\"\"\n",
        "\n",
        "with neo4j_driver.session() as session:\n",
        "  # count relationships\n",
        "  def check_graph_consistency(tx):\n",
        "    result = tx.run('''\n",
        "      MATCH (a:Author)-[:CREATED]->(r:Resource)-[:HAS_TAG]->(t:Tag)\n",
        "      RETURN a.name AS author, r.name AS resource, collect(t.name) AS tags\n",
        "      ORDER By author\n",
        "    ''')\n",
        "    return [{'author': record['author'], 'resource': record['resource'], 'tags': set(record['tags'])} for record in result]\n",
        "\n",
        "  actual = session.read_transaction(check_graph_consistency)\n",
        "  expected = [\n",
        "    {'author': 'LARUS Business Automation', 'resource': 'Galileo.XAI', 'tags': frozenset(['Graph Machine Learning', 'Neo4j', 'Explainable AI', 'Artificial Intelligence'])},\n",
        "    {'author': 'Michael Hunger', 'resource': 'APOC', 'tags': frozenset(['Graph Data Integration', 'Graph Algorithms'])},\n",
        "    {'author': 'Neo4j', 'resource': 'Graph Data Science Library', 'tags': frozenset(['Graph Machine Learning', 'Algorithms'])}\n",
        "  ]\n",
        "  assert actual == expected\n",
        "\n",
        "print(\"All assertion are successfuly satisfied. Congrats you saved your first Knowledge Graph DataFrame into Neo4j!\")"
      ],
      "metadata": {
        "id": "LwqbSsEcsgDi"
      },
      "execution_count": null,
      "outputs": []
    },
    {
      "cell_type": "code",
      "source": [],
      "metadata": {
        "id": "_LbqufNZMj6-"
      },
      "execution_count": null,
      "outputs": []
    }
  ],
  "metadata": {
    "colab": {
      "provenance": [],
      "toc_visible": true
    },
    "kernelspec": {
      "display_name": "Python 3",
      "name": "python3"
    },
    "language_info": {
      "name": "python"
    }
  },
  "nbformat": 4,
  "nbformat_minor": 0
}